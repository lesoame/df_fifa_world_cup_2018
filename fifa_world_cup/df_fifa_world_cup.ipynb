{
 "cells": [
  {
   "cell_type": "markdown",
   "metadata": {},
   "source": [
    "#### ***Importing pyspark libs***"
   ]
  },
  {
   "cell_type": "code",
   "execution_count": 1,
   "metadata": {},
   "outputs": [],
   "source": [
    "from pyspark.sql import SparkSession\n",
    "from pyspark.sql.functions import *\n",
    "from pyspark.sql.types import *"
   ]
  },
  {
   "cell_type": "markdown",
   "metadata": {},
   "source": [
    "#### ***Creating SparkSession***"
   ]
  },
  {
   "cell_type": "code",
   "execution_count": 2,
   "metadata": {},
   "outputs": [],
   "source": [
    "spark = (\n",
    "    SparkSession.builder\n",
    "    .master('local')\n",
    "    .appName('df_fifa_world_cup')\n",
    "    .getOrCreate()\n",
    ")"
   ]
  },
  {
   "cell_type": "markdown",
   "metadata": {},
   "source": [
    "#### ***Show User Interface***"
   ]
  },
  {
   "cell_type": "code",
   "execution_count": 3,
   "metadata": {},
   "outputs": [
    {
     "data": {
      "text/html": [
       "\n",
       "            <div>\n",
       "                <p><b>SparkSession - in-memory</b></p>\n",
       "                \n",
       "        <div>\n",
       "            <p><b>SparkContext</b></p>\n",
       "\n",
       "            <p><a href=\"http://LEANDRO-PC:4040\">Spark UI</a></p>\n",
       "\n",
       "            <dl>\n",
       "              <dt>Version</dt>\n",
       "                <dd><code>v3.5.0</code></dd>\n",
       "              <dt>Master</dt>\n",
       "                <dd><code>local</code></dd>\n",
       "              <dt>AppName</dt>\n",
       "                <dd><code>df_fifa_world_cup</code></dd>\n",
       "            </dl>\n",
       "        </div>\n",
       "        \n",
       "            </div>\n",
       "        "
      ],
      "text/plain": [
       "<pyspark.sql.session.SparkSession at 0x26f1b11ec90>"
      ]
     },
     "execution_count": 3,
     "metadata": {},
     "output_type": "execute_result"
    }
   ],
   "source": [
    "spark"
   ]
  },
  {
   "cell_type": "markdown",
   "metadata": {},
   "source": [
    "#### ***Reading CSV file***"
   ]
  },
  {
   "cell_type": "code",
   "execution_count": 4,
   "metadata": {},
   "outputs": [],
   "source": [
    "df = spark.read.csv('arquivo/wc2018-players.csv', header=True, inferSchema=True)"
   ]
  },
  {
   "cell_type": "markdown",
   "metadata": {},
   "source": [
    "#### ***Structure of Dataframe***"
   ]
  },
  {
   "cell_type": "code",
   "execution_count": 5,
   "metadata": {},
   "outputs": [
    {
     "name": "stdout",
     "output_type": "stream",
     "text": [
      "root\n",
      " |-- Team: string (nullable = true)\n",
      " |-- #: integer (nullable = true)\n",
      " |-- Pos.: string (nullable = true)\n",
      " |-- FIFA Popular Name: string (nullable = true)\n",
      " |-- Birth Date: string (nullable = true)\n",
      " |-- Shirt Name: string (nullable = true)\n",
      " |-- Club: string (nullable = true)\n",
      " |-- Height: integer (nullable = true)\n",
      " |-- Weight: integer (nullable = true)\n",
      "\n"
     ]
    }
   ],
   "source": [
    "df.printSchema()"
   ]
  },
  {
   "cell_type": "markdown",
   "metadata": {},
   "source": [
    "#### ***Show command***"
   ]
  },
  {
   "cell_type": "code",
   "execution_count": 6,
   "metadata": {},
   "outputs": [
    {
     "name": "stdout",
     "output_type": "stream",
     "text": [
      "+---------+---+----+------------------+----------+----------+--------------------+------+------+\n",
      "|     Team|  #|Pos.| FIFA Popular Name|Birth Date|Shirt Name|                Club|Height|Weight|\n",
      "+---------+---+----+------------------+----------+----------+--------------------+------+------+\n",
      "|Argentina|  3|  DF|TAGLIAFICO Nicolas|31.08.1992|TAGLIAFICO|      AFC Ajax (NED)|   169|    65|\n",
      "|Argentina| 22|  MF|    PAVON Cristian|21.01.1996|     PAVÓN|CA Boca Juniors (...|   169|    65|\n",
      "|Argentina| 15|  MF|    LANZINI Manuel|15.02.1993|   LANZINI|West Ham United F...|   167|    66|\n",
      "|Argentina| 18|  DF|    SALVIO Eduardo|13.07.1990|    SALVIO|    SL Benfica (POR)|   167|    69|\n",
      "|Argentina| 10|  FW|      MESSI Lionel|24.06.1987|     MESSI|  FC Barcelona (ESP)|   170|    72|\n",
      "+---------+---+----+------------------+----------+----------+--------------------+------+------+\n",
      "only showing top 5 rows\n",
      "\n"
     ]
    }
   ],
   "source": [
    "df.show(5)"
   ]
  },
  {
   "cell_type": "markdown",
   "metadata": {},
   "source": [
    "#### ***Verifying if exists null fields***"
   ]
  },
  {
   "cell_type": "code",
   "execution_count": 7,
   "metadata": {},
   "outputs": [
    {
     "data": {
      "text/plain": [
       "Team                 0\n",
       "#                    0\n",
       "Pos.                 0\n",
       "FIFA Popular Name    0\n",
       "Birth Date           0\n",
       "Shirt Name           0\n",
       "Club                 0\n",
       "Height               0\n",
       "Weight               0\n",
       "dtype: int64"
      ]
     },
     "execution_count": 7,
     "metadata": {},
     "output_type": "execute_result"
    }
   ],
   "source": [
    "df.toPandas().isna().sum()"
   ]
  },
  {
   "cell_type": "markdown",
   "metadata": {},
   "source": [
    "#### ***Renaming columns***"
   ]
  },
  {
   "cell_type": "code",
   "execution_count": 8,
   "metadata": {},
   "outputs": [
    {
     "name": "stdout",
     "output_type": "stream",
     "text": [
      "+---------+------+-------+------------------+---------------+-------------+--------------------+------+----+\n",
      "|  Selecao|Numero|Posicao|         Nome_FIFA|Data_Nascimento|Nome_Camiseta|                Time|Altura|Peso|\n",
      "+---------+------+-------+------------------+---------------+-------------+--------------------+------+----+\n",
      "|Argentina|     3|     DF|TAGLIAFICO Nicolas|     31.08.1992|   TAGLIAFICO|      AFC Ajax (NED)|   169|  65|\n",
      "|Argentina|    22|     MF|    PAVON Cristian|     21.01.1996|        PAVÓN|CA Boca Juniors (...|   169|  65|\n",
      "|Argentina|    15|     MF|    LANZINI Manuel|     15.02.1993|      LANZINI|West Ham United F...|   167|  66|\n",
      "|Argentina|    18|     DF|    SALVIO Eduardo|     13.07.1990|       SALVIO|    SL Benfica (POR)|   167|  69|\n",
      "|Argentina|    10|     FW|      MESSI Lionel|     24.06.1987|        MESSI|  FC Barcelona (ESP)|   170|  72|\n",
      "+---------+------+-------+------------------+---------------+-------------+--------------------+------+----+\n",
      "only showing top 5 rows\n",
      "\n"
     ]
    }
   ],
   "source": [
    "df = df.withColumnRenamed('Team', 'Selecao')\\\n",
    "       .withColumnRenamed('#', 'Numero')\\\n",
    "       .withColumnRenamed('Pos.', 'Posicao')\\\n",
    "       .withColumnRenamed('FIFA Popular Name', 'Nome_FIFA')\\\n",
    "       .withColumnRenamed('Birth Date', 'Data_Nascimento')\\\n",
    "       .withColumnRenamed('Shirt Name', 'Nome_Camiseta')\\\n",
    "       .withColumnRenamed('Club', 'Time')\\\n",
    "       .withColumnRenamed('Height', 'Altura')\\\n",
    "       .withColumnRenamed('Weight', 'Peso')\n",
    "\n",
    "df.show(5)"
   ]
  },
  {
   "cell_type": "markdown",
   "metadata": {},
   "source": [
    "#### ***Applying filter in each column to verify if null field exists***"
   ]
  },
  {
   "cell_type": "code",
   "execution_count": 9,
   "metadata": {},
   "outputs": [
    {
     "name": "stdout",
     "output_type": "stream",
     "text": [
      "Selecao 0\n",
      "Numero 0\n",
      "Posicao 0\n",
      "Nome_FIFA 0\n",
      "Data_Nascimento 0\n",
      "Nome_Camiseta 0\n",
      "Time 0\n",
      "Altura 0\n",
      "Peso 0\n"
     ]
    }
   ],
   "source": [
    "for coluna in df.columns:\n",
    "    print(coluna, df.filter(df[coluna].isNull()).count())"
   ]
  },
  {
   "cell_type": "code",
   "execution_count": 10,
   "metadata": {},
   "outputs": [
    {
     "name": "stdout",
     "output_type": "stream",
     "text": [
      "+---------+------------------+\n",
      "|  Selecao|         Nome_FIFA|\n",
      "+---------+------------------+\n",
      "|Argentina|TAGLIAFICO Nicolas|\n",
      "|Argentina|    PAVON Cristian|\n",
      "|Argentina|    LANZINI Manuel|\n",
      "|Argentina|    SALVIO Eduardo|\n",
      "|Argentina|      MESSI Lionel|\n",
      "+---------+------------------+\n",
      "only showing top 5 rows\n",
      "\n"
     ]
    }
   ],
   "source": [
    "df.select('Selecao', 'Nome_FIFA',).show(5)"
   ]
  },
  {
   "cell_type": "code",
   "execution_count": 11,
   "metadata": {},
   "outputs": [
    {
     "name": "stdout",
     "output_type": "stream",
     "text": [
      "+---------+\n",
      "|   Timaço|\n",
      "+---------+\n",
      "|Argentina|\n",
      "|Argentina|\n",
      "|Argentina|\n",
      "|Argentina|\n",
      "|Argentina|\n",
      "+---------+\n",
      "only showing top 5 rows\n",
      "\n"
     ]
    }
   ],
   "source": [
    "df.select(col('Selecao').alias('Timaço')).show(5)"
   ]
  },
  {
   "cell_type": "code",
   "execution_count": 12,
   "metadata": {},
   "outputs": [
    {
     "name": "stdout",
     "output_type": "stream",
     "text": [
      "+---------+------------------+\n",
      "|  Selecao|         Nome_FIFA|\n",
      "+---------+------------------+\n",
      "|Argentina|TAGLIAFICO Nicolas|\n",
      "|Argentina|    PAVON Cristian|\n",
      "|Argentina|    LANZINI Manuel|\n",
      "|Argentina|    SALVIO Eduardo|\n",
      "|Argentina|      MESSI Lionel|\n",
      "+---------+------------------+\n",
      "only showing top 5 rows\n",
      "\n"
     ]
    }
   ],
   "source": [
    "df.select(col('Selecao'), col('Nome_FIFA')).show(5)"
   ]
  },
  {
   "cell_type": "code",
   "execution_count": 13,
   "metadata": {},
   "outputs": [
    {
     "name": "stdout",
     "output_type": "stream",
     "text": [
      "+---------+------------------+\n",
      "|  Selecao|         Nome_FIFA|\n",
      "+---------+------------------+\n",
      "|Argentina|TAGLIAFICO Nicolas|\n",
      "|Argentina|    PAVON Cristian|\n",
      "|Argentina|    LANZINI Manuel|\n",
      "|Argentina|    SALVIO Eduardo|\n",
      "|Argentina|      MESSI Lionel|\n",
      "+---------+------------------+\n",
      "only showing top 5 rows\n",
      "\n"
     ]
    }
   ],
   "source": [
    "df.select(df['Selecao'], df['Nome_FIFA']).show(5)"
   ]
  },
  {
   "cell_type": "code",
   "execution_count": 14,
   "metadata": {},
   "outputs": [
    {
     "name": "stdout",
     "output_type": "stream",
     "text": [
      "+---------+------------------+------+\n",
      "|  Selecao|         Nome_FIFA|Altura|\n",
      "+---------+------------------+------+\n",
      "|Argentina|TAGLIAFICO Nicolas|   169|\n",
      "|Argentina|    PAVON Cristian|   169|\n",
      "|Argentina|    LANZINI Manuel|   167|\n",
      "|Argentina|    SALVIO Eduardo|   167|\n",
      "|Argentina|      MESSI Lionel|   170|\n",
      "+---------+------------------+------+\n",
      "only showing top 5 rows\n",
      "\n"
     ]
    }
   ],
   "source": [
    "df.select('Selecao Nome_FIFA Altura'.split()).show(5)"
   ]
  },
  {
   "cell_type": "markdown",
   "metadata": {},
   "source": [
    "#### ***DF filter***"
   ]
  },
  {
   "cell_type": "code",
   "execution_count": 15,
   "metadata": {},
   "outputs": [
    {
     "name": "stdout",
     "output_type": "stream",
     "text": [
      "+-------+------+-------+-----------------+---------------+-------------+--------------------+------+----+\n",
      "|Selecao|Numero|Posicao|        Nome_FIFA|Data_Nascimento|Nome_Camiseta|                Time|Altura|Peso|\n",
      "+-------+------+-------+-----------------+---------------+-------------+--------------------+------+----+\n",
      "| Brazil|    18|     MF|             FRED|     05.03.1993|         FRED|FC Shakhtar Donet...|   169|  64|\n",
      "| Brazil|    21|     FW|           TAISON|     13.01.1988|       TAISON|FC Shakhtar Donet...|   172|  64|\n",
      "| Brazil|    17|     MF|      FERNANDINHO|     04.05.1985|  FERNANDINHO|Manchester City F...|   179|  67|\n",
      "| Brazil|    22|     DF|           FAGNER|     11.06.1989|       FAGNER|SC Corinthians (BRA)|   168|  67|\n",
      "| Brazil|    10|     FW|           NEYMAR|     05.02.1992|    NEYMAR JR|Paris Saint-Germa...|   175|  68|\n",
      "| Brazil|    11|     MF|PHILIPPE COUTINHO|     12.06.1992|  P. COUTINHO|  FC Barcelona (ESP)|   172|  68|\n",
      "| Brazil|     7|     FW|    DOUGLAS COSTA|     14.09.1990|     D. COSTA|   Juventus FC (ITA)|   182|  70|\n",
      "| Brazil|     6|     DF|      FILIPE LUIS|     09.08.1985|  FILIPE LUIS|Atletico Madrid (...|   182|  73|\n",
      "| Brazil|     9|     FW|    GABRIEL JESUS|     03.04.1997|     G. JESUS|Manchester City F...|   175|  73|\n",
      "| Brazil|    13|     DF|       MARQUINHOS|     14.05.1994|   MARQUINHOS|Paris Saint-Germa...|   183|  75|\n",
      "+-------+------+-------+-----------------+---------------+-------------+--------------------+------+----+\n",
      "only showing top 10 rows\n",
      "\n"
     ]
    }
   ],
   "source": [
    "df.filter(df['Selecao'] == 'Brazil').show(10)"
   ]
  },
  {
   "cell_type": "markdown",
   "metadata": {},
   "source": [
    "#### ***Filter DF with 2 conditions (AND / &)***"
   ]
  },
  {
   "cell_type": "code",
   "execution_count": 16,
   "metadata": {},
   "outputs": [
    {
     "name": "stdout",
     "output_type": "stream",
     "text": [
      "+-------+------+-------+---------+---------------+-------------+-------------------------+------+----+\n",
      "|Selecao|Numero|Posicao|Nome_FIFA|Data_Nascimento|Nome_Camiseta|Time                     |Altura|Peso|\n",
      "+-------+------+-------+---------+---------------+-------------+-------------------------+------+----+\n",
      "|Brazil |18    |MF     |FRED     |05.03.1993     |FRED         |FC Shakhtar Donetsk (UKR)|169   |64  |\n",
      "|Brazil |21    |FW     |TAISON   |13.01.1988     |TAISON       |FC Shakhtar Donetsk (UKR)|172   |64  |\n",
      "+-------+------+-------+---------+---------------+-------------+-------------------------+------+----+\n",
      "\n"
     ]
    }
   ],
   "source": [
    "df.filter((df['Selecao'] == 'Brazil') & (df['Nome_FIFA'] == 'FRED') | (df['Nome_Camiseta'] == 'TAISON')).show(truncate=False)"
   ]
  },
  {
   "cell_type": "code",
   "execution_count": 17,
   "metadata": {},
   "outputs": [
    {
     "name": "stdout",
     "output_type": "stream",
     "text": [
      "+---------+------+-------+--------------+---------------+-------------+-----------------+------+----+\n",
      "|  Selecao|Numero|Posicao|     Nome_FIFA|Data_Nascimento|Nome_Camiseta|             Time|Altura|Peso|\n",
      "+---------+------+-------+--------------+---------------+-------------+-----------------+------+----+\n",
      "|Argentina|     6|     DF|FAZIO Federico|     17.03.1987|        FAZIO|    AS Roma (ITA)|   199|  85|\n",
      "|Argentina|     1|     GK| GUZMAN Nahuel|     10.02.1986|       GUZMÁN|Tigres UANL (MEX)|   192|  90|\n",
      "+---------+------+-------+--------------+---------------+-------------+-----------------+------+----+\n",
      "\n"
     ]
    }
   ],
   "source": [
    "df.filter((df['Selecao'] == 'Argentina') & ((df['Altura'] > 190))).show()"
   ]
  },
  {
   "cell_type": "code",
   "execution_count": 18,
   "metadata": {},
   "outputs": [
    {
     "name": "stdout",
     "output_type": "stream",
     "text": [
      "+-------+------+-------+---------+---------------+-------------+--------------------+------+----+\n",
      "|Selecao|Numero|Posicao|Nome_FIFA|Data_Nascimento|Nome_Camiseta|                Time|Altura|Peso|\n",
      "+-------+------+-------+---------+---------------+-------------+--------------------+------+----+\n",
      "| Brazil|    16|     GK|   CASSIO|     06.06.1987|       CASSIO|SC Corinthians (BRA)|   195|  92|\n",
      "+-------+------+-------+---------+---------------+-------------+--------------------+------+----+\n",
      "\n"
     ]
    }
   ],
   "source": [
    "df.filter((col('Selecao') == \"Brazil\") & ((col('Altura') > 190) & ((col('Peso') > 91)))).show()"
   ]
  },
  {
   "cell_type": "code",
   "execution_count": 19,
   "metadata": {},
   "outputs": [
    {
     "name": "stdout",
     "output_type": "stream",
     "text": [
      "+-------+------+-------+---------+---------------+-------------+--------------------+------+----+\n",
      "|Selecao|Numero|Posicao|Nome_FIFA|Data_Nascimento|Nome_Camiseta|                Time|Altura|Peso|\n",
      "+-------+------+-------+---------+---------------+-------------+--------------------+------+----+\n",
      "| Brazil|    21|     FW|   TAISON|     13.01.1988|       TAISON|FC Shakhtar Donet...|   172|  64|\n",
      "| Brazil|    22|     DF|   FAGNER|     11.06.1989|       FAGNER|SC Corinthians (BRA)|   168|  67|\n",
      "| Brazil|    23|     GK|  EDERSON|     17.08.1993|      EDERSON|Manchester City F...|   188|  86|\n",
      "+-------+------+-------+---------+---------------+-------------+--------------------+------+----+\n",
      "\n"
     ]
    }
   ],
   "source": [
    "df.filter('Selecao = \"Brazil\"').filter(col('Numero') > 20).show()"
   ]
  },
  {
   "cell_type": "markdown",
   "metadata": {},
   "source": [
    "#### ***Filter DF with 2 conditions (OR / |)***"
   ]
  },
  {
   "cell_type": "code",
   "execution_count": 20,
   "metadata": {},
   "outputs": [
    {
     "name": "stdout",
     "output_type": "stream",
     "text": [
      "+---------+------+-------+------------------+---------------+-------------+------------------+------+----+\n",
      "|  Selecao|Numero|Posicao|         Nome_FIFA|Data_Nascimento|Nome_Camiseta|              Time|Altura|Peso|\n",
      "+---------+------+-------+------------------+---------------+-------------+------------------+------+----+\n",
      "|Argentina|     3|     DF|TAGLIAFICO Nicolas|     31.08.1992|   TAGLIAFICO|    AFC Ajax (NED)|   169|  65|\n",
      "|Argentina|    10|     FW|      MESSI Lionel|     24.06.1987|        MESSI|FC Barcelona (ESP)|   170|  72|\n",
      "+---------+------+-------+------------------+---------------+-------------+------------------+------+----+\n",
      "\n"
     ]
    }
   ],
   "source": [
    "df.filter((df['Nome_FIFA'] == 'MESSI Lionel') | ((df['Nome_FIFA'] == 'TAGLIAFICO Nicolas'))).show()"
   ]
  },
  {
   "cell_type": "markdown",
   "metadata": {},
   "source": [
    "#### ***Filter DF combining & and | (AND / OR)***"
   ]
  },
  {
   "cell_type": "code",
   "execution_count": 21,
   "metadata": {},
   "outputs": [
    {
     "name": "stdout",
     "output_type": "stream",
     "text": [
      "+-------+------+-------+-----------------+---------------+-------------+--------------------+------+----+\n",
      "|Selecao|Numero|Posicao|        Nome_FIFA|Data_Nascimento|Nome_Camiseta|                Time|Altura|Peso|\n",
      "+-------+------+-------+-----------------+---------------+-------------+--------------------+------+----+\n",
      "| Brazil|    18|     MF|             FRED|     05.03.1993|         FRED|FC Shakhtar Donet...|   169|  64|\n",
      "| Brazil|    21|     FW|           TAISON|     13.01.1988|       TAISON|FC Shakhtar Donet...|   172|  64|\n",
      "| Brazil|    17|     MF|      FERNANDINHO|     04.05.1985|  FERNANDINHO|Manchester City F...|   179|  67|\n",
      "| Brazil|    22|     DF|           FAGNER|     11.06.1989|       FAGNER|SC Corinthians (BRA)|   168|  67|\n",
      "| Brazil|    10|     FW|           NEYMAR|     05.02.1992|    NEYMAR JR|Paris Saint-Germa...|   175|  68|\n",
      "| Brazil|    11|     MF|PHILIPPE COUTINHO|     12.06.1992|  P. COUTINHO|  FC Barcelona (ESP)|   172|  68|\n",
      "| Brazil|     7|     FW|    DOUGLAS COSTA|     14.09.1990|     D. COSTA|   Juventus FC (ITA)|   182|  70|\n",
      "| Brazil|     6|     DF|      FILIPE LUIS|     09.08.1985|  FILIPE LUIS|Atletico Madrid (...|   182|  73|\n",
      "| Brazil|     9|     FW|    GABRIEL JESUS|     03.04.1997|     G. JESUS|Manchester City F...|   175|  73|\n",
      "| Brazil|    13|     DF|       MARQUINHOS|     14.05.1994|   MARQUINHOS|Paris Saint-Germa...|   183|  75|\n",
      "| Brazil|    20|     FW|  ROBERTO FIRMINO|     02.10.1991|      FIRMINO|  Liverpool FC (ENG)|   181|  76|\n",
      "| Brazil|    19|     MF|          WILLIAN|     09.08.1988|      WILLIAN|    Chelsea FC (ENG)|   175|  77|\n",
      "| Brazil|     3|     DF|          MIRANDA|     07.09.1984|      MIRANDA|FC Internazionale...|   186|  78|\n",
      "| Brazil|    14|     DF|           DANILO|     15.07.1991|       DANILO|Manchester City F...|   184|  78|\n",
      "| Brazil|     2|     DF|     THIAGO SILVA|     22.09.1984|     T. SILVA|Paris Saint-Germa...|   183|  79|\n",
      "| Brazil|    12|     DF|          MARCELO|     12.05.1988|      MARCELO|Real Madrid CF (ESP)|   174|  80|\n",
      "| Brazil|    15|     MF|         PAULINHO|     25.07.1988|     PAULINHO|  FC Barcelona (ESP)|   181|  81|\n",
      "| Brazil|     4|     DF|    PEDRO GEROMEL|     21.09.1985|      GEROMEL|   Grêmio FBPA (BRA)|   190|  84|\n",
      "| Brazil|     5|     MF|         CASEMIRO|     23.02.1992|     CASEMIRO|Real Madrid CF (ESP)|   185|  84|\n",
      "| Brazil|     8|     MF|   RENATO AUGUSTO|     08.02.1988|   R. AUGUSTO| Beijing Guoan (CHN)|   186|  86|\n",
      "| Brazil|    23|     GK|          EDERSON|     17.08.1993|      EDERSON|Manchester City F...|   188|  86|\n",
      "| Brazil|     1|     GK|          ALISSON|     02.10.1992|    A. BECKER|       AS Roma (ITA)|   193|  91|\n",
      "| Brazil|    16|     GK|           CASSIO|     06.06.1987|       CASSIO|SC Corinthians (BRA)|   195|  92|\n",
      "+-------+------+-------+-----------------+---------------+-------------+--------------------+------+----+\n",
      "\n"
     ]
    }
   ],
   "source": [
    "df.filter((df['Selecao'] == 'Brazil')).show(23)"
   ]
  },
  {
   "cell_type": "code",
   "execution_count": 144,
   "metadata": {},
   "outputs": [
    {
     "name": "stdout",
     "output_type": "stream",
     "text": [
      "+-------+------+-------+-----------------+-------------+--------------------+------+----+----------+\n",
      "|Selecao|Numero|Posicao|        Nome_FIFA|Nome_Camiseta|                Time|Altura|Peso|Nascimento|\n",
      "+-------+------+-------+-----------------+-------------+--------------------+------+----+----------+\n",
      "| Brazil|    21|     FW|           TAISON|       TAISON|FC Shakhtar Donet...|   172|  64|1988-01-13|\n",
      "| Brazil|    22|     DF|           FAGNER|       FAGNER|SC Corinthians (BRA)|   168|  67|1989-06-11|\n",
      "| Brazil|    10|     FW|           NEYMAR|    NEYMAR JR|Paris Saint-Germa...|   175|  68|1992-02-05|\n",
      "| Brazil|    11|     MF|PHILIPPE COUTINHO|  P. COUTINHO|  FC Barcelona (ESP)|   172|  68|1992-06-12|\n",
      "| Brazil|     7|     FW|    DOUGLAS COSTA|     D. COSTA|   Juventus FC (ITA)|   182|  70|1990-09-14|\n",
      "| Brazil|     9|     FW|    GABRIEL JESUS|     G. JESUS|Manchester City F...|   175|  73|1997-04-03|\n",
      "| Brazil|    20|     FW|  ROBERTO FIRMINO|      FIRMINO|  Liverpool FC (ENG)|   181|  76|1991-10-02|\n",
      "| Brazil|    16|     GK|           CASSIO|       CASSIO|SC Corinthians (BRA)|   195|  92|1987-06-06|\n",
      "+-------+------+-------+-----------------+-------------+--------------------+------+----+----------+\n",
      "\n"
     ]
    }
   ],
   "source": [
    "df.filter((df['Selecao'] == 'Brazil') & ((df['Posicao'] == 'FW') | ((df['Nome_Camiseta'] == 'P. COUTINHO')) | ((df['Time'] == 'SC Corinthians (BRA)')))).show()"
   ]
  },
  {
   "cell_type": "markdown",
   "metadata": {},
   "source": [
    "#### ***Creating nem columns using lit function***"
   ]
  },
  {
   "cell_type": "code",
   "execution_count": 23,
   "metadata": {},
   "outputs": [
    {
     "name": "stdout",
     "output_type": "stream",
     "text": [
      "+---------+------+-------+------------------+---------------+-------------+--------------------+------+----+-----------+\n",
      "|  Selecao|Numero|Posicao|         Nome_FIFA|Data_Nascimento|Nome_Camiseta|                Time|Altura|Peso|coluna_nova|\n",
      "+---------+------+-------+------------------+---------------+-------------+--------------------+------+----+-----------+\n",
      "|Argentina|     3|     DF|TAGLIAFICO Nicolas|     31.08.1992|   TAGLIAFICO|      AFC Ajax (NED)|   169|  65|        104|\n",
      "|Argentina|    22|     MF|    PAVON Cristian|     21.01.1996|        PAVÓN|CA Boca Juniors (...|   169|  65|        104|\n",
      "|Argentina|    15|     MF|    LANZINI Manuel|     15.02.1993|      LANZINI|West Ham United F...|   167|  66|        101|\n",
      "|Argentina|    18|     DF|    SALVIO Eduardo|     13.07.1990|       SALVIO|    SL Benfica (POR)|   167|  69|         98|\n",
      "|Argentina|    10|     FW|      MESSI Lionel|     24.06.1987|        MESSI|  FC Barcelona (ESP)|   170|  72|         98|\n",
      "+---------+------+-------+------------------+---------------+-------------+--------------------+------+----+-----------+\n",
      "only showing top 5 rows\n",
      "\n"
     ]
    }
   ],
   "source": [
    "df.withColumn('coluna_nova', lit(col('Altura') - col('Peso'))).show(5)"
   ]
  },
  {
   "cell_type": "markdown",
   "metadata": {},
   "source": [
    "#### ***Creating conditional column (using substring function)***"
   ]
  },
  {
   "cell_type": "code",
   "execution_count": 24,
   "metadata": {},
   "outputs": [
    {
     "name": "stdout",
     "output_type": "stream",
     "text": [
      "+---------+------+-------+------------------+---------------+-------------+--------------------+------+----+---+\n",
      "|  Selecao|Numero|Posicao|         Nome_FIFA|Data_Nascimento|Nome_Camiseta|                Time|Altura|Peso|Sub|\n",
      "+---------+------+-------+------------------+---------------+-------------+--------------------+------+----+---+\n",
      "|Argentina|     3|     DF|TAGLIAFICO Nicolas|     31.08.1992|   TAGLIAFICO|      AFC Ajax (NED)|   169|  65|Arg|\n",
      "|Argentina|    22|     MF|    PAVON Cristian|     21.01.1996|        PAVÓN|CA Boca Juniors (...|   169|  65|Arg|\n",
      "|Argentina|    15|     MF|    LANZINI Manuel|     15.02.1993|      LANZINI|West Ham United F...|   167|  66|Arg|\n",
      "|Argentina|    18|     DF|    SALVIO Eduardo|     13.07.1990|       SALVIO|    SL Benfica (POR)|   167|  69|Arg|\n",
      "|Argentina|    10|     FW|      MESSI Lionel|     24.06.1987|        MESSI|  FC Barcelona (ESP)|   170|  72|Arg|\n",
      "+---------+------+-------+------------------+---------------+-------------+--------------------+------+----+---+\n",
      "only showing top 5 rows\n",
      "\n"
     ]
    }
   ],
   "source": [
    "df.withColumn('Sub', substring('Selecao', 1, 3)).show(5)"
   ]
  },
  {
   "cell_type": "code",
   "execution_count": 25,
   "metadata": {},
   "outputs": [
    {
     "name": "stdout",
     "output_type": "stream",
     "text": [
      "+---------+------+-------+------------------+---------------+-------------+--------------------+------+----+\n",
      "|  Selecao|Numero|Posicao|         Nome_FIFA|Data_Nascimento|Nome_Camiseta|                Time|Altura|Peso|\n",
      "+---------+------+-------+------------------+---------------+-------------+--------------------+------+----+\n",
      "|Argentina|     3|     DF|TAGLIAFICO Nicolas|     31.08.1992|   TAGLIAFICO|      AFC Ajax (NED)|   169|  65|\n",
      "|Argentina|    22|     MF|    PAVON Cristian|     21.01.1996|        PAVÓN|CA Boca Juniors (...|   169|  65|\n",
      "|Argentina|    15|     MF|    LANZINI Manuel|     15.02.1993|      LANZINI|West Ham United F...|   167|  66|\n",
      "|Argentina|    18|     DF|    SALVIO Eduardo|     13.07.1990|       SALVIO|    SL Benfica (POR)|   167|  69|\n",
      "|Argentina|    10|     FW|      MESSI Lionel|     24.06.1987|        MESSI|  FC Barcelona (ESP)|   170|  72|\n",
      "|Argentina|     4|     DF|  ANSALDI Cristian|     20.09.1986|      ANSALDI|     Torino FC (ITA)|   181|  73|\n",
      "|Argentina|     5|     MF|      BIGLIA Lucas|     30.01.1986|       BIGLIA|      AC Milan (ITA)|   175|  73|\n",
      "|Argentina|     7|     MF|       BANEGA Ever|     29.06.1988|       BANEGA|    Sevilla FC (ESP)|   175|  73|\n",
      "|Argentina|    14|     DF| MASCHERANO Javier|     08.06.1984|   MASCHERANO|Hebei China Fortu...|   174|  73|\n",
      "|Argentina|    21|     FW|      DYBALA Paulo|     15.11.1993|       DYBALA|   Juventus FC (ITA)|   177|  73|\n",
      "|Argentina|    19|     FW|     AGUERO Sergio|     02.06.1988|       AGÜERO|Manchester City F...|   172|  74|\n",
      "|Argentina|     9|     FW|   HIGUAIN Gonzalo|     10.12.1987|      HIGUAÍN|   Juventus FC (ITA)|   184|  75|\n",
      "|Argentina|    11|     MF|    DI MARIA Angel|     14.02.1988|     DI MARÍA|Paris Saint-Germa...|   178|  75|\n",
      "|Argentina|    20|     MF|  LO CELSO Giovani|     09.04.1996|     LO CELSO|Paris Saint-Germa...|   177|  75|\n",
      "|Argentina|    13|     MF|  MEZA Maximiliano|     15.12.1992|         MEZA|CA Independiente ...|   180|  76|\n",
      "|Argentina|     8|     DF|      ACUNA Marcos|     28.10.1991|        ACUÑA|   Sporting CP (POR)|   172|  77|\n",
      "|Argentina|    23|     GK|CABALLERO Wilfredo|     28.09.1981|    CABALLERO|    Chelsea FC (ENG)|   186|  80|\n",
      "|Argentina|     2|     DF|   MERCADO Gabriel|     18.03.1987|      MERCADO|    Sevilla FC (ESP)|   181|  81|\n",
      "|Argentina|    17|     DF|  OTAMENDI Nicolas|     12.02.1988|     OTAMENDI|Manchester City F...|   181|  81|\n",
      "|Argentina|    16|     DF|       ROJO Marcos|     20.03.1990|         ROJO|Manchester United...|   189|  82|\n",
      "|Argentina|     6|     DF|    FAZIO Federico|     17.03.1987|        FAZIO|       AS Roma (ITA)|   199|  85|\n",
      "|Argentina|    12|     GK|     ARMANI Franco|     16.10.1986|       ARMANI|CA River Plate (ARG)|   189|  85|\n",
      "|Argentina|     1|     GK|     GUZMAN Nahuel|     10.02.1986|       GUZMÁN|   Tigres UANL (MEX)|   192|  90|\n",
      "+---------+------+-------+------------------+---------------+-------------+--------------------+------+----+\n",
      "only showing top 23 rows\n",
      "\n"
     ]
    }
   ],
   "source": [
    "df.show(23)"
   ]
  },
  {
   "cell_type": "code",
   "execution_count": 26,
   "metadata": {},
   "outputs": [
    {
     "name": "stdout",
     "output_type": "stream",
     "text": [
      "root\n",
      " |-- Selecao: string (nullable = true)\n",
      " |-- Numero: integer (nullable = true)\n",
      " |-- Posicao: string (nullable = true)\n",
      " |-- Nome_FIFA: string (nullable = true)\n",
      " |-- Data_Nascimento: string (nullable = true)\n",
      " |-- Nome_Camiseta: string (nullable = true)\n",
      " |-- Time: string (nullable = true)\n",
      " |-- Altura: integer (nullable = true)\n",
      " |-- Peso: integer (nullable = true)\n",
      " |-- Ano: string (nullable = true)\n",
      "\n"
     ]
    }
   ],
   "source": [
    "df = df.withColumn('Ano', substring('Data_Nascimento', -4,4))\n",
    "\n",
    "df.printSchema()"
   ]
  },
  {
   "cell_type": "code",
   "execution_count": 27,
   "metadata": {},
   "outputs": [],
   "source": [
    "df = df.withColumn('Mes', substring('Data_Nascimento', -7, 2))"
   ]
  },
  {
   "cell_type": "code",
   "execution_count": 28,
   "metadata": {},
   "outputs": [],
   "source": [
    "df = df.withColumn('Dia', substring('Data_Nascimento', -10, 2))"
   ]
  },
  {
   "cell_type": "code",
   "execution_count": 29,
   "metadata": {},
   "outputs": [
    {
     "name": "stdout",
     "output_type": "stream",
     "text": [
      "root\n",
      " |-- Selecao: string (nullable = true)\n",
      " |-- Numero: integer (nullable = true)\n",
      " |-- Posicao: string (nullable = true)\n",
      " |-- Nome_FIFA: string (nullable = true)\n",
      " |-- Data_Nascimento: string (nullable = true)\n",
      " |-- Nome_Camiseta: string (nullable = true)\n",
      " |-- Time: string (nullable = true)\n",
      " |-- Altura: integer (nullable = true)\n",
      " |-- Peso: integer (nullable = true)\n",
      " |-- Ano: string (nullable = true)\n",
      " |-- Mes: string (nullable = true)\n",
      " |-- Dia: string (nullable = true)\n",
      " |-- Nascimento: string (nullable = false)\n",
      "\n"
     ]
    }
   ],
   "source": [
    "df = df.withColumn('Nascimento', concat_ws('-', 'Ano', 'Mes', 'Dia'))\n",
    "\n",
    "df.printSchema()"
   ]
  },
  {
   "cell_type": "code",
   "execution_count": 30,
   "metadata": {},
   "outputs": [
    {
     "name": "stdout",
     "output_type": "stream",
     "text": [
      "root\n",
      " |-- Selecao: string (nullable = true)\n",
      " |-- Numero: integer (nullable = true)\n",
      " |-- Posicao: string (nullable = true)\n",
      " |-- Nome_FIFA: string (nullable = true)\n",
      " |-- Data_Nascimento: string (nullable = true)\n",
      " |-- Nome_Camiseta: string (nullable = true)\n",
      " |-- Time: string (nullable = true)\n",
      " |-- Altura: integer (nullable = true)\n",
      " |-- Peso: integer (nullable = true)\n",
      " |-- Ano: string (nullable = true)\n",
      " |-- Mes: string (nullable = true)\n",
      " |-- Dia: string (nullable = true)\n",
      " |-- Nascimento: date (nullable = true)\n",
      "\n"
     ]
    }
   ],
   "source": [
    "df = df.withColumn('Nascimento', col('Nascimento').cast(DateType()))\n",
    "\n",
    "df.printSchema()"
   ]
  },
  {
   "cell_type": "code",
   "execution_count": 32,
   "metadata": {},
   "outputs": [
    {
     "name": "stdout",
     "output_type": "stream",
     "text": [
      "+---------+------+-------+------------------+-------------+--------------------+------+----+----------+\n",
      "|  Selecao|Numero|Posicao|         Nome_FIFA|Nome_Camiseta|                Time|Altura|Peso|Nascimento|\n",
      "+---------+------+-------+------------------+-------------+--------------------+------+----+----------+\n",
      "|Argentina|     3|     DF|TAGLIAFICO Nicolas|   TAGLIAFICO|      AFC Ajax (NED)|   169|  65|1992-08-31|\n",
      "|Argentina|    22|     MF|    PAVON Cristian|        PAVÓN|CA Boca Juniors (...|   169|  65|1996-01-21|\n",
      "|Argentina|    15|     MF|    LANZINI Manuel|      LANZINI|West Ham United F...|   167|  66|1993-02-15|\n",
      "|Argentina|    18|     DF|    SALVIO Eduardo|       SALVIO|    SL Benfica (POR)|   167|  69|1990-07-13|\n",
      "|Argentina|    10|     FW|      MESSI Lionel|        MESSI|  FC Barcelona (ESP)|   170|  72|1987-06-24|\n",
      "+---------+------+-------+------------------+-------------+--------------------+------+----+----------+\n",
      "only showing top 5 rows\n",
      "\n"
     ]
    }
   ],
   "source": [
    "df = df.drop('Data_Nascimento', 'Ano', 'Mes', 'Dia')\n",
    "\n",
    "df.show(5)"
   ]
  },
  {
   "cell_type": "code",
   "execution_count": 116,
   "metadata": {},
   "outputs": [],
   "source": [
    "df_total_selecao = df.select(col('Selecao')).distinct().count()"
   ]
  },
  {
   "cell_type": "code",
   "execution_count": 130,
   "metadata": {},
   "outputs": [
    {
     "name": "stdout",
     "output_type": "stream",
     "text": [
      "Número total de Seleções na Copa do Mundo é igual a 32\n"
     ]
    }
   ],
   "source": [
    "print(\"Número total de Seleções na Copa do Mundo é igual a\", df_total_selecao)"
   ]
  },
  {
   "cell_type": "code",
   "execution_count": 149,
   "metadata": {},
   "outputs": [
    {
     "name": "stdout",
     "output_type": "stream",
     "text": [
      "+-------+------+-------+---------------+-------------+--------------------+------+----+----------+\n",
      "|Selecao|Numero|Posicao|      Nome_FIFA|Nome_Camiseta|                Time|Altura|Peso|Nascimento|\n",
      "+-------+------+-------+---------------+-------------+--------------------+------+----+----------+\n",
      "|Belgium|    14|     FW|  MERTENS Dries|      MERTENS|    SSC Napoli (ITA)|   169|  61|1987-05-06|\n",
      "|Belgium|    10|     FW|    HAZARD Eden|    E. HAZARD|    Chelsea FC (ENG)|   173|  74|1991-01-07|\n",
      "|Belgium|    18|     FW|  JANUZAJ Adnan|      JANUZAJ| Real Sociedad (ESP)|   180|  75|1995-02-05|\n",
      "|Belgium|    21|     FW|BATSHUAYI Michy|    BATSHUAYI|Borussia Dortmund...|   185|  78|1993-10-02|\n",
      "|Belgium|     9|     FW|  LUKAKU Romelu|    R. LUKAKU|Manchester United...|   190|  94|1993-05-13|\n",
      "+-------+------+-------+---------------+-------------+--------------------+------+----+----------+\n",
      "\n"
     ]
    }
   ],
   "source": [
    "df.filter((df['Selecao'] == 'Belgium') & ((df['Posicao'] == 'FW'))).show(5)"
   ]
  }
 ],
 "metadata": {
  "kernelspec": {
   "display_name": "Python 3",
   "language": "python",
   "name": "python3"
  },
  "language_info": {
   "codemirror_mode": {
    "name": "ipython",
    "version": 3
   },
   "file_extension": ".py",
   "mimetype": "text/x-python",
   "name": "python",
   "nbconvert_exporter": "python",
   "pygments_lexer": "ipython3",
   "version": "3.11.1"
  }
 },
 "nbformat": 4,
 "nbformat_minor": 2
}
