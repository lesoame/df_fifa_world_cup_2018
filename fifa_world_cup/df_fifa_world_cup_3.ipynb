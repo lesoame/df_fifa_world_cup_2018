{
 "cells": [
  {
   "cell_type": "code",
   "execution_count": 2,
   "metadata": {},
   "outputs": [],
   "source": [
    "from pyspark.sql import SparkSession\n",
    "from pyspark.sql.functions import *\n",
    "from pyspark.sql.types import *"
   ]
  },
  {
   "cell_type": "code",
   "execution_count": 3,
   "metadata": {},
   "outputs": [],
   "source": [
    "spark = ( \n",
    "    SparkSession\\\n",
    "    .builder\\\n",
    "    .master('local')\n",
    "    .appName('df_fifa_world_cup_3')\n",
    "    .getOrCreate()\n",
    ")"
   ]
  },
  {
   "cell_type": "code",
   "execution_count": 4,
   "metadata": {},
   "outputs": [],
   "source": [
    "df = spark.read.csv('arquivo/wc2018-players.csv', header=True, inferSchema=True)"
   ]
  },
  {
   "cell_type": "code",
   "execution_count": 5,
   "metadata": {},
   "outputs": [
    {
     "name": "stdout",
     "output_type": "stream",
     "text": [
      "root\n",
      " |-- Team: string (nullable = true)\n",
      " |-- #: integer (nullable = true)\n",
      " |-- Pos.: string (nullable = true)\n",
      " |-- FIFA Popular Name: string (nullable = true)\n",
      " |-- Birth Date: string (nullable = true)\n",
      " |-- Shirt Name: string (nullable = true)\n",
      " |-- Club: string (nullable = true)\n",
      " |-- Height: integer (nullable = true)\n",
      " |-- Weight: integer (nullable = true)\n",
      "\n"
     ]
    }
   ],
   "source": [
    "df.printSchema()"
   ]
  },
  {
   "cell_type": "code",
   "execution_count": 6,
   "metadata": {},
   "outputs": [],
   "source": [
    "df = df.withColumnRenamed('Team', 'Selecao')\\\n",
    "       .withColumnRenamed('#', 'Numero')\\\n",
    "       .withColumnRenamed('Pos.', 'Posicao')\\\n",
    "       .withColumnRenamed('FIFA Popular Name', 'Nome_FIFA')\\\n",
    "       .withColumnRenamed('Birth Date', 'Data_Nascimento')\\\n",
    "       .withColumnRenamed('Shirt Name', 'Nome_Camiseta')\\\n",
    "       .withColumnRenamed('Club', 'Time')\\\n",
    "       .withColumnRenamed('Height', 'Altura')\\\n",
    "       .withColumnRenamed('Weight', 'Peso')"
   ]
  },
  {
   "cell_type": "code",
   "execution_count": 7,
   "metadata": {},
   "outputs": [
    {
     "name": "stdout",
     "output_type": "stream",
     "text": [
      "+---------+------+-------+------------------+---------------+-------------+--------------------+------+----+\n",
      "|  Selecao|Numero|Posicao|         Nome_FIFA|Data_Nascimento|Nome_Camiseta|                Time|Altura|Peso|\n",
      "+---------+------+-------+------------------+---------------+-------------+--------------------+------+----+\n",
      "|Argentina|     3|     DF|TAGLIAFICO Nicolas|     31.08.1992|   TAGLIAFICO|      AFC Ajax (NED)|   169|  65|\n",
      "|Argentina|    22|     MF|    PAVON Cristian|     21.01.1996|        PAVÓN|CA Boca Juniors (...|   169|  65|\n",
      "|Argentina|    15|     MF|    LANZINI Manuel|     15.02.1993|      LANZINI|West Ham United F...|   167|  66|\n",
      "|Argentina|    18|     DF|    SALVIO Eduardo|     13.07.1990|       SALVIO|    SL Benfica (POR)|   167|  69|\n",
      "|Argentina|    10|     FW|      MESSI Lionel|     24.06.1987|        MESSI|  FC Barcelona (ESP)|   170|  72|\n",
      "+---------+------+-------+------------------+---------------+-------------+--------------------+------+----+\n",
      "only showing top 5 rows\n",
      "\n"
     ]
    }
   ],
   "source": [
    "df.show(5)"
   ]
  },
  {
   "cell_type": "code",
   "execution_count": 8,
   "metadata": {},
   "outputs": [
    {
     "name": "stdout",
     "output_type": "stream",
     "text": [
      "root\n",
      " |-- Selecao: string (nullable = true)\n",
      " |-- Numero: integer (nullable = true)\n",
      " |-- Posicao: string (nullable = true)\n",
      " |-- Nome_FIFA: string (nullable = true)\n",
      " |-- Data_Nascimento: string (nullable = true)\n",
      " |-- Nome_Camiseta: string (nullable = true)\n",
      " |-- Time: string (nullable = true)\n",
      " |-- Altura: integer (nullable = true)\n",
      " |-- Peso: integer (nullable = true)\n",
      "\n"
     ]
    }
   ],
   "source": [
    "df.printSchema()"
   ]
  },
  {
   "cell_type": "code",
   "execution_count": 9,
   "metadata": {},
   "outputs": [],
   "source": [
    "df = df.withColumn('Ano', substring('Data_Nascimento', -4,4))\n",
    "df = df.withColumn('Mes', substring('Data_Nascimento', -7,2))\n",
    "df = df.withColumn('Dia', substring('Data_Nascimento', -10,2))"
   ]
  },
  {
   "cell_type": "code",
   "execution_count": 10,
   "metadata": {},
   "outputs": [
    {
     "name": "stdout",
     "output_type": "stream",
     "text": [
      "+---------+------+-------+------------------+---------------+-------------+--------------------+------+----+----+---+---+\n",
      "|  Selecao|Numero|Posicao|         Nome_FIFA|Data_Nascimento|Nome_Camiseta|                Time|Altura|Peso| Ano|Mes|Dia|\n",
      "+---------+------+-------+------------------+---------------+-------------+--------------------+------+----+----+---+---+\n",
      "|Argentina|     3|     DF|TAGLIAFICO Nicolas|     31.08.1992|   TAGLIAFICO|      AFC Ajax (NED)|   169|  65|1992| 08| 31|\n",
      "|Argentina|    22|     MF|    PAVON Cristian|     21.01.1996|        PAVÓN|CA Boca Juniors (...|   169|  65|1996| 01| 21|\n",
      "|Argentina|    15|     MF|    LANZINI Manuel|     15.02.1993|      LANZINI|West Ham United F...|   167|  66|1993| 02| 15|\n",
      "|Argentina|    18|     DF|    SALVIO Eduardo|     13.07.1990|       SALVIO|    SL Benfica (POR)|   167|  69|1990| 07| 13|\n",
      "|Argentina|    10|     FW|      MESSI Lionel|     24.06.1987|        MESSI|  FC Barcelona (ESP)|   170|  72|1987| 06| 24|\n",
      "+---------+------+-------+------------------+---------------+-------------+--------------------+------+----+----+---+---+\n",
      "only showing top 5 rows\n",
      "\n"
     ]
    }
   ],
   "source": [
    "df.show(5)"
   ]
  },
  {
   "cell_type": "code",
   "execution_count": 11,
   "metadata": {},
   "outputs": [],
   "source": [
    "df = df.withColumn('Nascimento', concat_ws('-', 'Ano', 'Mes', 'Dia').cast(DateType()))"
   ]
  },
  {
   "cell_type": "code",
   "execution_count": 12,
   "metadata": {},
   "outputs": [
    {
     "name": "stdout",
     "output_type": "stream",
     "text": [
      "+---------+------+-------+------------------+---------------+-------------+--------------------+------+----+----+---+---+----------+\n",
      "|  Selecao|Numero|Posicao|         Nome_FIFA|Data_Nascimento|Nome_Camiseta|                Time|Altura|Peso| Ano|Mes|Dia|Nascimento|\n",
      "+---------+------+-------+------------------+---------------+-------------+--------------------+------+----+----+---+---+----------+\n",
      "|Argentina|     3|     DF|TAGLIAFICO Nicolas|     31.08.1992|   TAGLIAFICO|      AFC Ajax (NED)|   169|  65|1992| 08| 31|1992-08-31|\n",
      "|Argentina|    22|     MF|    PAVON Cristian|     21.01.1996|        PAVÓN|CA Boca Juniors (...|   169|  65|1996| 01| 21|1996-01-21|\n",
      "|Argentina|    15|     MF|    LANZINI Manuel|     15.02.1993|      LANZINI|West Ham United F...|   167|  66|1993| 02| 15|1993-02-15|\n",
      "|Argentina|    18|     DF|    SALVIO Eduardo|     13.07.1990|       SALVIO|    SL Benfica (POR)|   167|  69|1990| 07| 13|1990-07-13|\n",
      "|Argentina|    10|     FW|      MESSI Lionel|     24.06.1987|        MESSI|  FC Barcelona (ESP)|   170|  72|1987| 06| 24|1987-06-24|\n",
      "+---------+------+-------+------------------+---------------+-------------+--------------------+------+----+----+---+---+----------+\n",
      "only showing top 5 rows\n",
      "\n"
     ]
    },
    {
     "data": {
      "text/plain": [
       "DataFrame[Selecao: string, Numero: int, Posicao: string, Nome_FIFA: string, Data_Nascimento: string, Nome_Camiseta: string, Time: string, Altura: int, Peso: int, Ano: string, Mes: string, Dia: string, Nascimento: date]"
      ]
     },
     "execution_count": 12,
     "metadata": {},
     "output_type": "execute_result"
    }
   ],
   "source": [
    "df.show(5)\n",
    "df"
   ]
  },
  {
   "cell_type": "code",
   "execution_count": 13,
   "metadata": {},
   "outputs": [
    {
     "name": "stdout",
     "output_type": "stream",
     "text": [
      "root\n",
      " |-- Selecao: string (nullable = true)\n",
      " |-- Numero: integer (nullable = true)\n",
      " |-- Posicao: string (nullable = true)\n",
      " |-- Nome_FIFA: string (nullable = true)\n",
      " |-- Nome_Camiseta: string (nullable = true)\n",
      " |-- Time: string (nullable = true)\n",
      " |-- Altura: integer (nullable = true)\n",
      " |-- Peso: integer (nullable = true)\n",
      " |-- Ano: string (nullable = true)\n",
      " |-- Mes: string (nullable = true)\n",
      " |-- Dia: string (nullable = true)\n",
      " |-- Nascimento: date (nullable = true)\n",
      "\n"
     ]
    }
   ],
   "source": [
    "df = df.drop('Data_Nascimento')\n",
    "df.printSchema()"
   ]
  },
  {
   "cell_type": "code",
   "execution_count": 14,
   "metadata": {},
   "outputs": [
    {
     "data": {
      "text/plain": [
       "DataFrame[Selecao: string, Numero: int, Posicao: string, Nome_FIFA: string, Nome_Camiseta: string, Time: string, Altura: int, Peso: int, Nascimento: date]"
      ]
     },
     "execution_count": 14,
     "metadata": {},
     "output_type": "execute_result"
    }
   ],
   "source": [
    "df = df.drop('Ano', 'Mes', 'Dia')\n",
    "df"
   ]
  },
  {
   "cell_type": "code",
   "execution_count": 15,
   "metadata": {},
   "outputs": [
    {
     "name": "stdout",
     "output_type": "stream",
     "text": [
      "+---------+------+-------+------------------+-------------+--------------------+------+----+----------+\n",
      "|  Selecao|Numero|Posicao|         Nome_FIFA|Nome_Camiseta|                Time|Altura|Peso|Nascimento|\n",
      "+---------+------+-------+------------------+-------------+--------------------+------+----+----------+\n",
      "|Argentina|     3|     DF|TAGLIAFICO Nicolas|   TAGLIAFICO|      AFC Ajax (NED)|   169|  65|1992-08-31|\n",
      "|Argentina|    22|     MF|    PAVON Cristian|        PAVÓN|CA Boca Juniors (...|   169|  65|1996-01-21|\n",
      "|Argentina|    15|     MF|    LANZINI Manuel|      LANZINI|West Ham United F...|   167|  66|1993-02-15|\n",
      "|Argentina|    18|     DF|    SALVIO Eduardo|       SALVIO|    SL Benfica (POR)|   167|  69|1990-07-13|\n",
      "|Argentina|    10|     FW|      MESSI Lionel|        MESSI|  FC Barcelona (ESP)|   170|  72|1987-06-24|\n",
      "+---------+------+-------+------------------+-------------+--------------------+------+----+----------+\n",
      "only showing top 5 rows\n",
      "\n"
     ]
    }
   ],
   "source": [
    "df.show(5)"
   ]
  },
  {
   "cell_type": "code",
   "execution_count": 16,
   "metadata": {},
   "outputs": [],
   "source": [
    "df2 = df"
   ]
  },
  {
   "cell_type": "code",
   "execution_count": 17,
   "metadata": {},
   "outputs": [
    {
     "name": "stdout",
     "output_type": "stream",
     "text": [
      "+--------------+\n",
      "|       Selecao|\n",
      "+--------------+\n",
      "|        Russia|\n",
      "|       Senegal|\n",
      "|        Sweden|\n",
      "|       IR Iran|\n",
      "|       Germany|\n",
      "|        France|\n",
      "|     Argentina|\n",
      "|       Belgium|\n",
      "|          Peru|\n",
      "|       Croatia|\n",
      "|       Nigeria|\n",
      "|Korea Republic|\n",
      "|         Spain|\n",
      "|       Denmark|\n",
      "|       Morocco|\n",
      "|        Panama|\n",
      "|       Iceland|\n",
      "|       Uruguay|\n",
      "|        Mexico|\n",
      "|       Tunisia|\n",
      "|  Saudi Arabia|\n",
      "|   Switzerland|\n",
      "|        Brazil|\n",
      "|         Japan|\n",
      "|       England|\n",
      "|        Poland|\n",
      "|      Portugal|\n",
      "|     Australia|\n",
      "|    Costa Rica|\n",
      "|         Egypt|\n",
      "|        Serbia|\n",
      "|      Colombia|\n",
      "+--------------+\n",
      "\n"
     ]
    }
   ],
   "source": [
    "df.select(col('Selecao')).distinct().show(32)"
   ]
  },
  {
   "cell_type": "code",
   "execution_count": 18,
   "metadata": {},
   "outputs": [
    {
     "data": {
      "text/plain": [
       "[Row(Selecao='Russia'),\n",
       " Row(Selecao='Senegal'),\n",
       " Row(Selecao='Sweden'),\n",
       " Row(Selecao='IR Iran'),\n",
       " Row(Selecao='Germany'),\n",
       " Row(Selecao='France'),\n",
       " Row(Selecao='Argentina'),\n",
       " Row(Selecao='Belgium'),\n",
       " Row(Selecao='Peru'),\n",
       " Row(Selecao='Croatia'),\n",
       " Row(Selecao='Nigeria'),\n",
       " Row(Selecao='Korea Republic'),\n",
       " Row(Selecao='Spain'),\n",
       " Row(Selecao='Denmark'),\n",
       " Row(Selecao='Morocco'),\n",
       " Row(Selecao='Panama'),\n",
       " Row(Selecao='Iceland'),\n",
       " Row(Selecao='Uruguay'),\n",
       " Row(Selecao='Mexico'),\n",
       " Row(Selecao='Tunisia'),\n",
       " Row(Selecao='Saudi Arabia'),\n",
       " Row(Selecao='Switzerland'),\n",
       " Row(Selecao='Brazil'),\n",
       " Row(Selecao='Japan'),\n",
       " Row(Selecao='England'),\n",
       " Row(Selecao='Poland'),\n",
       " Row(Selecao='Portugal'),\n",
       " Row(Selecao='Australia'),\n",
       " Row(Selecao='Costa Rica'),\n",
       " Row(Selecao='Egypt'),\n",
       " Row(Selecao='Serbia'),\n",
       " Row(Selecao='Colombia')]"
      ]
     },
     "execution_count": 18,
     "metadata": {},
     "output_type": "execute_result"
    }
   ],
   "source": [
    "lista = df.select(col('Selecao')).distinct().collect()\n",
    "lista"
   ]
  },
  {
   "cell_type": "code",
   "execution_count": 19,
   "metadata": {},
   "outputs": [
    {
     "data": {
      "text/plain": [
       "str"
      ]
     },
     "execution_count": 19,
     "metadata": {},
     "output_type": "execute_result"
    }
   ],
   "source": [
    "type(lista[0][0])"
   ]
  },
  {
   "cell_type": "code",
   "execution_count": 20,
   "metadata": {},
   "outputs": [
    {
     "data": {
      "text/plain": [
       "Row(Selecao='Serbia')"
      ]
     },
     "execution_count": 20,
     "metadata": {},
     "output_type": "execute_result"
    }
   ],
   "source": [
    "lista[30]"
   ]
  },
  {
   "cell_type": "code",
   "execution_count": 21,
   "metadata": {},
   "outputs": [
    {
     "data": {
      "text/plain": [
       "['Russia',\n",
       " 'Senegal',\n",
       " 'Sweden',\n",
       " 'IR Iran',\n",
       " 'Germany',\n",
       " 'France',\n",
       " 'Argentina',\n",
       " 'Belgium',\n",
       " 'Peru',\n",
       " 'Croatia',\n",
       " 'Nigeria',\n",
       " 'Korea Republic',\n",
       " 'Spain',\n",
       " 'Denmark',\n",
       " 'Morocco',\n",
       " 'Panama',\n",
       " 'Iceland',\n",
       " 'Uruguay',\n",
       " 'Mexico',\n",
       " 'Tunisia',\n",
       " 'Saudi Arabia',\n",
       " 'Switzerland',\n",
       " 'Brazil',\n",
       " 'Japan',\n",
       " 'England',\n",
       " 'Poland',\n",
       " 'Portugal',\n",
       " 'Australia',\n",
       " 'Costa Rica',\n",
       " 'Egypt',\n",
       " 'Serbia',\n",
       " 'Colombia']"
      ]
     },
     "execution_count": 21,
     "metadata": {},
     "output_type": "execute_result"
    }
   ],
   "source": [
    "paises = []\n",
    "\n",
    "for pais in lista:\n",
    "    paises.append(pais[0])\n",
    "\n",
    "paises"
   ]
  },
  {
   "cell_type": "code",
   "execution_count": 22,
   "metadata": {},
   "outputs": [
    {
     "name": "stdout",
     "output_type": "stream",
     "text": [
      "+---------+------+-------+------------------+-------------+--------------------+------+----+----------+--------------+\n",
      "|  Selecao|Numero|Posicao|         Nome_FIFA|Nome_Camiseta|                Time|Altura|Peso|Nascimento|   Coluna_Nova|\n",
      "+---------+------+-------+------------------+-------------+--------------------+------+----+----------+--------------+\n",
      "|Argentina|     3|     DF|TAGLIAFICO Nicolas|   TAGLIAFICO|      AFC Ajax (NED)|   169|  65|1992-08-31|    Argentinos|\n",
      "|Argentina|    22|     MF|    PAVON Cristian|        PAVÓN|CA Boca Juniors (...|   169|  65|1996-01-21|    Argentinos|\n",
      "|Argentina|    15|     MF|    LANZINI Manuel|      LANZINI|West Ham United F...|   167|  66|1993-02-15|    Argentinos|\n",
      "|Argentina|    18|     DF|    SALVIO Eduardo|       SALVIO|    SL Benfica (POR)|   167|  69|1990-07-13|    Argentinos|\n",
      "|Argentina|    10|     FW|      MESSI Lionel|        MESSI|  FC Barcelona (ESP)|   170|  72|1987-06-24|    Argentinos|\n",
      "|Argentina|     4|     DF|  ANSALDI Cristian|      ANSALDI|     Torino FC (ITA)|   181|  73|1986-09-20|    Argentinos|\n",
      "|Argentina|     5|     MF|      BIGLIA Lucas|       BIGLIA|      AC Milan (ITA)|   175|  73|1986-01-30|    Argentinos|\n",
      "|Argentina|     7|     MF|       BANEGA Ever|       BANEGA|    Sevilla FC (ESP)|   175|  73|1988-06-29|    Argentinos|\n",
      "|Argentina|    14|     DF| MASCHERANO Javier|   MASCHERANO|Hebei China Fortu...|   174|  73|1984-06-08|    Argentinos|\n",
      "|Argentina|    21|     FW|      DYBALA Paulo|       DYBALA|   Juventus FC (ITA)|   177|  73|1993-11-15|    Argentinos|\n",
      "|Argentina|    19|     FW|     AGUERO Sergio|       AGÜERO|Manchester City F...|   172|  74|1988-06-02|    Argentinos|\n",
      "|Argentina|     9|     FW|   HIGUAIN Gonzalo|      HIGUAÍN|   Juventus FC (ITA)|   184|  75|1987-12-10|    Argentinos|\n",
      "|Argentina|    11|     MF|    DI MARIA Angel|     DI MARÍA|Paris Saint-Germa...|   178|  75|1988-02-14|    Argentinos|\n",
      "|Argentina|    20|     MF|  LO CELSO Giovani|     LO CELSO|Paris Saint-Germa...|   177|  75|1996-04-09|    Argentinos|\n",
      "|Argentina|    13|     MF|  MEZA Maximiliano|         MEZA|CA Independiente ...|   180|  76|1992-12-15|    Argentinos|\n",
      "|Argentina|     8|     DF|      ACUNA Marcos|        ACUÑA|   Sporting CP (POR)|   172|  77|1991-10-28|    Argentinos|\n",
      "|Argentina|    23|     GK|CABALLERO Wilfredo|    CABALLERO|    Chelsea FC (ENG)|   186|  80|1981-09-28|    Argentinos|\n",
      "|Argentina|     2|     DF|   MERCADO Gabriel|      MERCADO|    Sevilla FC (ESP)|   181|  81|1987-03-18|    Argentinos|\n",
      "|Argentina|    17|     DF|  OTAMENDI Nicolas|     OTAMENDI|Manchester City F...|   181|  81|1988-02-12|    Argentinos|\n",
      "|Argentina|    16|     DF|       ROJO Marcos|         ROJO|Manchester United...|   189|  82|1990-03-20|    Argentinos|\n",
      "|Argentina|     6|     DF|    FAZIO Federico|        FAZIO|       AS Roma (ITA)|   199|  85|1987-03-17|    Argentinos|\n",
      "|Argentina|    12|     GK|     ARMANI Franco|       ARMANI|CA River Plate (ARG)|   189|  85|1986-10-16|    Argentinos|\n",
      "|Argentina|     1|     GK|     GUZMAN Nahuel|       GUZMÁN|   Tigres UANL (MEX)|   192|  90|1986-02-10|    Argentinos|\n",
      "|Australia|    16|     DF|       BEHICH Aziz|       BEHICH|     Bursaspor (TUR)|   170|  63|1990-12-16|Não Argentinos|\n",
      "|Australia|    10|     FW|      KRUSE Robbie|        KRUSE|    VfL Bochum (GER)|   180|  66|1988-10-05|Não Argentinos|\n",
      "|Australia|    19|     DF|     RISDON Joshua|       RISDON|WS Wanderers FC (...|   169|  70|1992-07-27|Não Argentinos|\n",
      "|Australia|     3|     DF|    MEREDITH James|     MEREDITH|   Millwall FC (ENG)|   179|  71|1988-04-05|Não Argentinos|\n",
      "|Australia|    13|     MF|        MOOY Aaron|         MOOY|Huddersfield Town...|   173|  72|1990-09-15|Não Argentinos|\n",
      "|Australia|    14|     FW|    MacLAREN Jamie|     MACLAREN|  Hibernian FC (SCO)|   178|  72|1993-07-29|Não Argentinos|\n",
      "|Australia|    21|     FW|PETRATOS Dimitrios|     PETRATOS|Newcastle United ...|   176|  72|1992-11-10|Não Argentinos|\n",
      "|Australia|    17|     FW|     ARZANI Daniel|       ARZANI|Melbourne City FC...|   171|  73|1999-01-04|Não Argentinos|\n",
      "|Australia|     4|     FW|        CAHILL Tim|       CAHILL|   Millwall FC (ENG)|   180|  76|1979-12-06|Não Argentinos|\n",
      "|Australia|     8|     MF|    LUONGO Massimo|       LUONGO|Queens Park Range...|   176|  76|1992-09-25|Não Argentinos|\n",
      "|Australia|    20|     DF|   SAINSBURY Trent|    SAINSBURY|Grasshopper Club ...|   183|  76|1992-01-05|Não Argentinos|\n",
      "|Australia|    22|     MF|    IRVINE Jackson|       IRVINE|  Hull City FC (ENG)|   180|  77|1993-03-07|Não Argentinos|\n",
      "|Australia|     5|     DF|     MILLIGAN Mark|     MILLIGAN|    Al Ahli SC (KSA)|   178|  78|1985-08-04|Não Argentinos|\n",
      "|Australia|    15|     MF|      JEDINAK Mile|      JEDINAK|Aston Villa FC (ENG)|   188|  78|1984-08-03|Não Argentinos|\n",
      "|Australia|     9|     FW|        JURIC Tomi|        JURIC|     FC Luzern (SUI)|   190|  80|1991-07-22|Não Argentinos|\n",
      "|Australia|     1|     GK|       RYAN Mathew|         RYAN|Brighton & Hove A...|   184|  82|1992-04-08|Não Argentinos|\n",
      "|Australia|     6|     DF|    JURMAN Matthew|       JURMAN|Suwon Samsung Blu...|   190|  83|1989-12-08|Não Argentinos|\n",
      "|Australia|     7|     FW|     LECKIE Mathew|       LECKIE|    Hertha BSC (GER)|   181|  84|1991-02-04|Não Argentinos|\n",
      "|Australia|     2|     DF|     DEGENEK Milos|      DEGENEK|Yokohama F-Marino...|   187|  85|1994-04-28|Não Argentinos|\n",
      "|Australia|    11|     FW|    NABBOUT Andrew|      NABBOUT|    Urawa Reds (JPN)|   178|  85|1992-12-17|Não Argentinos|\n",
      "|Australia|    12|     GK|        JONES Brad|        JONES|Feyenoord Rotterd...|   193|  87|1982-03-19|Não Argentinos|\n",
      "|Australia|    23|     MF|         ROGIC Tom|        ROGIC|     Celtic FC (SCO)|   189|  88|1992-12-16|Não Argentinos|\n",
      "|Australia|    18|     GK|     VUKOVIC Danny|      VUKOVIC|      KRC Genk (BEL)|   187|  94|1985-03-27|Não Argentinos|\n",
      "|  Belgium|    14|     FW|     MERTENS Dries|      MERTENS|    SSC Napoli (ITA)|   169|  61|1987-05-06|Não Argentinos|\n",
      "|  Belgium|    11|     MF|  CARRASCO Yannick|     CARRASCO|Dalian Yifang FC ...|   180|  67|1993-09-04|Não Argentinos|\n",
      "|  Belgium|     7|     MF|   DE BRUYNE Kevin|    DE BRUYNE|Manchester City F...|   181|  70|1991-06-28|Não Argentinos|\n",
      "|  Belgium|    16|     MF|    HAZARD Thorgan|    T. HAZARD|VfL Borussia Mönc...|   174|  70|1993-03-29|Não Argentinos|\n",
      "+---------+------+-------+------------------+-------------+--------------------+------+----+----------+--------------+\n",
      "only showing top 50 rows\n",
      "\n"
     ]
    }
   ],
   "source": [
    "df.withColumn('Coluna_Nova', when(col('Selecao') == 'Argentina', 'Argentinos').otherwise('Não Argentinos')).show(50)"
   ]
  },
  {
   "cell_type": "code",
   "execution_count": 23,
   "metadata": {},
   "outputs": [],
   "source": [
    "europa        = ['Sweden', 'Germany', 'France', 'Belgium', 'Croatia', 'Spain', 'Denmark', 'Ireland', 'Switzerland', 'England', 'Poland', 'Portugal', 'Iceland', 'Serbia']\n",
    "asia          = ['Russia', 'IR Iran', 'Nigeria', 'Korea Republic', 'Saudi Arabia', 'Japan']\n",
    "africa        = ['Senegal', 'Morocco', 'Tunisia', 'Egypt']\n",
    "oceania       = ['Australia']\n",
    "america_norte = ['Panama', 'Mexico', 'Costa Rica']\n",
    "america_sul   = ['Argentina', 'Peru', 'Uruguay', 'Brazil', 'Colombia']"
   ]
  },
  {
   "cell_type": "code",
   "execution_count": 24,
   "metadata": {},
   "outputs": [],
   "source": [
    "df = df.withColumn('Continente', when(col('Selecao').isin(europa), 'Europa')\\\n",
    "             .when(col('Selecao').isin(asia), 'Ásia')\\\n",
    "             .when(col('Selecao').isin(africa), 'África')\\\n",
    "             .when(col('Selecao').isin(oceania), 'Oceania')\\\n",
    "             .when(col('Selecao').isin(america_norte), 'América do Norte')\\\n",
    "             .when(col('Selecao').isin(america_sul), 'América do Sul')\\\n",
    "             .otherwise('Verificar'))"
   ]
  },
  {
   "cell_type": "code",
   "execution_count": 25,
   "metadata": {},
   "outputs": [
    {
     "name": "stdout",
     "output_type": "stream",
     "text": [
      "+-------+------+-------+---------+-------------+----+------+----+----------+----------+\n",
      "|Selecao|Numero|Posicao|Nome_FIFA|Nome_Camiseta|Time|Altura|Peso|Nascimento|Continente|\n",
      "+-------+------+-------+---------+-------------+----+------+----+----------+----------+\n",
      "+-------+------+-------+---------+-------------+----+------+----+----------+----------+\n",
      "\n"
     ]
    }
   ],
   "source": [
    "df.filter('Continente == \"Verificar\"').show()"
   ]
  },
  {
   "cell_type": "code",
   "execution_count": 34,
   "metadata": {},
   "outputs": [
    {
     "name": "stdout",
     "output_type": "stream",
     "text": [
      "+---------+\n",
      "|  Selecao|\n",
      "+---------+\n",
      "|Argentina|\n",
      "|     Peru|\n",
      "|  Uruguay|\n",
      "|   Brazil|\n",
      "| Colombia|\n",
      "+---------+\n",
      "\n"
     ]
    }
   ],
   "source": [
    "df_america_sul = df.filter('Continente = \"América do Sul\"')\n",
    "df_america_sul.select('Selecao').distinct().show()"
   ]
  },
  {
   "cell_type": "code",
   "execution_count": 35,
   "metadata": {},
   "outputs": [
    {
     "name": "stdout",
     "output_type": "stream",
     "text": [
      "+----------+\n",
      "|   Selecao|\n",
      "+----------+\n",
      "|    Panama|\n",
      "|    Mexico|\n",
      "|Costa Rica|\n",
      "+----------+\n",
      "\n"
     ]
    }
   ],
   "source": [
    "df_america_norte = df.filter('Continente = \"América do Norte\"')\n",
    "df_america_norte.select('Selecao').distinct().show()"
   ]
  },
  {
   "cell_type": "code",
   "execution_count": 31,
   "metadata": {},
   "outputs": [],
   "source": [
    "df_americas = df_america_sul.union(df_america_norte)"
   ]
  },
  {
   "cell_type": "code",
   "execution_count": 37,
   "metadata": {},
   "outputs": [
    {
     "name": "stdout",
     "output_type": "stream",
     "text": [
      "+----------+\n",
      "|   Selecao|\n",
      "+----------+\n",
      "| Argentina|\n",
      "|      Peru|\n",
      "|   Uruguay|\n",
      "|    Brazil|\n",
      "|  Colombia|\n",
      "|    Panama|\n",
      "|    Mexico|\n",
      "|Costa Rica|\n",
      "+----------+\n",
      "\n"
     ]
    }
   ],
   "source": [
    "df_americas.select('Selecao').distinct().show()"
   ]
  },
  {
   "cell_type": "code",
   "execution_count": 60,
   "metadata": {},
   "outputs": [
    {
     "name": "stdout",
     "output_type": "stream",
     "text": [
      "+-------+------+-------+-----------------+-------------+--------------------+------+----+----------+--------------+\n",
      "|Selecao|Numero|Posicao|        Nome_FIFA|Nome_Camiseta|                Time|Altura|Peso|Nascimento|    Continente|\n",
      "+-------+------+-------+-----------------+-------------+--------------------+------+----+----------+--------------+\n",
      "| Brazil|    18|     MF|             FRED|         FRED|FC Shakhtar Donet...|   169|  64|1993-03-05|América do Sul|\n",
      "| Brazil|    21|     FW|           TAISON|       TAISON|FC Shakhtar Donet...|   172|  64|1988-01-13|América do Sul|\n",
      "| Brazil|    17|     MF|      FERNANDINHO|  FERNANDINHO|Manchester City F...|   179|  67|1985-05-04|América do Sul|\n",
      "| Brazil|    22|     DF|           FAGNER|       FAGNER|SC Corinthians (BRA)|   168|  67|1989-06-11|América do Sul|\n",
      "| Brazil|    10|     FW|           NEYMAR|    NEYMAR JR|Paris Saint-Germa...|   175|  68|1992-02-05|América do Sul|\n",
      "| Brazil|    11|     MF|PHILIPPE COUTINHO|  P. COUTINHO|  FC Barcelona (ESP)|   172|  68|1992-06-12|América do Sul|\n",
      "| Brazil|     7|     FW|    DOUGLAS COSTA|     D. COSTA|   Juventus FC (ITA)|   182|  70|1990-09-14|América do Sul|\n",
      "| Brazil|     6|     DF|      FILIPE LUIS|  FILIPE LUIS|Atletico Madrid (...|   182|  73|1985-08-09|América do Sul|\n",
      "| Brazil|     9|     FW|    GABRIEL JESUS|     G. JESUS|Manchester City F...|   175|  73|1997-04-03|América do Sul|\n",
      "| Brazil|    13|     DF|       MARQUINHOS|   MARQUINHOS|Paris Saint-Germa...|   183|  75|1994-05-14|América do Sul|\n",
      "| Brazil|    20|     FW|  ROBERTO FIRMINO|      FIRMINO|  Liverpool FC (ENG)|   181|  76|1991-10-02|América do Sul|\n",
      "| Brazil|    19|     MF|          WILLIAN|      WILLIAN|    Chelsea FC (ENG)|   175|  77|1988-08-09|América do Sul|\n",
      "| Brazil|     3|     DF|          MIRANDA|      MIRANDA|FC Internazionale...|   186|  78|1984-09-07|América do Sul|\n",
      "| Brazil|    14|     DF|           DANILO|       DANILO|Manchester City F...|   184|  78|1991-07-15|América do Sul|\n",
      "| Brazil|     2|     DF|     THIAGO SILVA|     T. SILVA|Paris Saint-Germa...|   183|  79|1984-09-22|América do Sul|\n",
      "| Brazil|    12|     DF|          MARCELO|      MARCELO|Real Madrid CF (ESP)|   174|  80|1988-05-12|América do Sul|\n",
      "| Brazil|    15|     MF|         PAULINHO|     PAULINHO|  FC Barcelona (ESP)|   181|  81|1988-07-25|América do Sul|\n",
      "| Brazil|     4|     DF|    PEDRO GEROMEL|      GEROMEL|   Grêmio FBPA (BRA)|   190|  84|1985-09-21|América do Sul|\n",
      "| Brazil|     5|     MF|         CASEMIRO|     CASEMIRO|Real Madrid CF (ESP)|   185|  84|1992-02-23|América do Sul|\n",
      "| Brazil|     8|     MF|   RENATO AUGUSTO|   R. AUGUSTO| Beijing Guoan (CHN)|   186|  86|1988-02-08|América do Sul|\n",
      "+-------+------+-------+-----------------+-------------+--------------------+------+----+----------+--------------+\n",
      "only showing top 20 rows\n",
      "\n"
     ]
    }
   ],
   "source": [
    "df.filter('Selecao == \"Brazil\"').show()"
   ]
  },
  {
   "cell_type": "code",
   "execution_count": 90,
   "metadata": {},
   "outputs": [],
   "source": [
    "arg = df.filter(col('Selecao') == \"Argentina\")\n",
    "bra = df.filter(col('Selecao') == \"Brazil\")"
   ]
  },
  {
   "cell_type": "code",
   "execution_count": 91,
   "metadata": {},
   "outputs": [],
   "source": [
    "arg = arg.drop('Time', 'Continente', 'Peso', 'Nascimento', 'Nome_FIFA')\n",
    "bra = bra.drop('Time', 'Continente', 'Peso', 'Nascimento', 'Nome_FIFA')"
   ]
  },
  {
   "cell_type": "code",
   "execution_count": 92,
   "metadata": {},
   "outputs": [
    {
     "name": "stdout",
     "output_type": "stream",
     "text": [
      "+---------+------+-------+-------------+------+\n",
      "|  Selecao|Numero|Posicao|Nome_Camiseta|Altura|\n",
      "+---------+------+-------+-------------+------+\n",
      "|Argentina|     3|     DF|   TAGLIAFICO|   169|\n",
      "|Argentina|    22|     MF|        PAVÓN|   169|\n",
      "|Argentina|    15|     MF|      LANZINI|   167|\n",
      "|Argentina|    18|     DF|       SALVIO|   167|\n",
      "|Argentina|    10|     FW|        MESSI|   170|\n",
      "+---------+------+-------+-------------+------+\n",
      "only showing top 5 rows\n",
      "\n"
     ]
    }
   ],
   "source": [
    "arg.show(5)"
   ]
  },
  {
   "cell_type": "code",
   "execution_count": 93,
   "metadata": {},
   "outputs": [
    {
     "name": "stdout",
     "output_type": "stream",
     "text": [
      "+-------+------+-------+-------------+------+\n",
      "|Selecao|Numero|Posicao|Nome_Camiseta|Altura|\n",
      "+-------+------+-------+-------------+------+\n",
      "| Brazil|    18|     MF|         FRED|   169|\n",
      "| Brazil|    21|     FW|       TAISON|   172|\n",
      "| Brazil|    17|     MF|  FERNANDINHO|   179|\n",
      "| Brazil|    22|     DF|       FAGNER|   168|\n",
      "| Brazil|    10|     FW|    NEYMAR JR|   175|\n",
      "+-------+------+-------+-------------+------+\n",
      "only showing top 5 rows\n",
      "\n"
     ]
    }
   ],
   "source": [
    "bra.show(5)"
   ]
  },
  {
   "cell_type": "markdown",
   "metadata": {},
   "source": [
    "#### ***Join simples***"
   ]
  },
  {
   "cell_type": "code",
   "execution_count": 94,
   "metadata": {},
   "outputs": [
    {
     "name": "stdout",
     "output_type": "stream",
     "text": [
      "+---------+------+-------+-------------+------+-------+------+-------+-------------+------+\n",
      "|  Selecao|Numero|Posicao|Nome_Camiseta|Altura|Selecao|Numero|Posicao|Nome_Camiseta|Altura|\n",
      "+---------+------+-------+-------------+------+-------+------+-------+-------------+------+\n",
      "|Argentina|     3|     DF|   TAGLIAFICO|   169| Brazil|     3|     DF|      MIRANDA|   186|\n",
      "|Argentina|    22|     MF|        PAVÓN|   169| Brazil|    22|     DF|       FAGNER|   168|\n",
      "|Argentina|    15|     MF|      LANZINI|   167| Brazil|    15|     MF|     PAULINHO|   181|\n",
      "|Argentina|    18|     DF|       SALVIO|   167| Brazil|    18|     MF|         FRED|   169|\n",
      "|Argentina|    10|     FW|        MESSI|   170| Brazil|    10|     FW|    NEYMAR JR|   175|\n",
      "|Argentina|     4|     DF|      ANSALDI|   181| Brazil|     4|     DF|      GEROMEL|   190|\n",
      "|Argentina|     5|     MF|       BIGLIA|   175| Brazil|     5|     MF|     CASEMIRO|   185|\n",
      "|Argentina|     7|     MF|       BANEGA|   175| Brazil|     7|     FW|     D. COSTA|   182|\n",
      "|Argentina|    14|     DF|   MASCHERANO|   174| Brazil|    14|     DF|       DANILO|   184|\n",
      "|Argentina|    21|     FW|       DYBALA|   177| Brazil|    21|     FW|       TAISON|   172|\n",
      "|Argentina|    19|     FW|       AGÜERO|   172| Brazil|    19|     MF|      WILLIAN|   175|\n",
      "|Argentina|     9|     FW|      HIGUAÍN|   184| Brazil|     9|     FW|     G. JESUS|   175|\n",
      "|Argentina|    11|     MF|     DI MARÍA|   178| Brazil|    11|     MF|  P. COUTINHO|   172|\n",
      "|Argentina|    20|     MF|     LO CELSO|   177| Brazil|    20|     FW|      FIRMINO|   181|\n",
      "|Argentina|    13|     MF|         MEZA|   180| Brazil|    13|     DF|   MARQUINHOS|   183|\n",
      "|Argentina|     8|     DF|        ACUÑA|   172| Brazil|     8|     MF|   R. AUGUSTO|   186|\n",
      "|Argentina|    23|     GK|    CABALLERO|   186| Brazil|    23|     GK|      EDERSON|   188|\n",
      "|Argentina|     2|     DF|      MERCADO|   181| Brazil|     2|     DF|     T. SILVA|   183|\n",
      "|Argentina|    17|     DF|     OTAMENDI|   181| Brazil|    17|     MF|  FERNANDINHO|   179|\n",
      "|Argentina|    16|     DF|         ROJO|   189| Brazil|    16|     GK|       CASSIO|   195|\n",
      "|Argentina|     6|     DF|        FAZIO|   199| Brazil|     6|     DF|  FILIPE LUIS|   182|\n",
      "|Argentina|    12|     GK|       ARMANI|   189| Brazil|    12|     DF|      MARCELO|   174|\n",
      "|Argentina|     1|     GK|       GUZMÁN|   192| Brazil|     1|     GK|    A. BECKER|   193|\n",
      "+---------+------+-------+-------------+------+-------+------+-------+-------------+------+\n",
      "\n"
     ]
    }
   ],
   "source": [
    "dfnovo = arg.join(bra, arg.Numero == bra.Numero)\n",
    "dfnovo.show(23)"
   ]
  },
  {
   "cell_type": "code",
   "execution_count": 98,
   "metadata": {},
   "outputs": [
    {
     "name": "stdout",
     "output_type": "stream",
     "text": [
      "+---------+------+-------+-------------+------+\n",
      "|  Selecao|Numero|Posicao|Nome_Camiseta|Altura|\n",
      "+---------+------+-------+-------------+------+\n",
      "|Argentina|     4|     DF|   TAGLIAFICO|   169|\n",
      "|Argentina|    23|     MF|        PAVÓN|   169|\n",
      "|Argentina|    16|     MF|      LANZINI|   167|\n",
      "|Argentina|    19|     DF|       SALVIO|   167|\n",
      "|Argentina|    11|     FW|        MESSI|   170|\n",
      "|Argentina|     5|     DF|      ANSALDI|   181|\n",
      "|Argentina|     6|     MF|       BIGLIA|   175|\n",
      "|Argentina|     8|     MF|       BANEGA|   175|\n",
      "|Argentina|    15|     DF|   MASCHERANO|   174|\n",
      "|Argentina|    22|     FW|       DYBALA|   177|\n",
      "|Argentina|    20|     FW|       AGÜERO|   172|\n",
      "|Argentina|    10|     FW|      HIGUAÍN|   184|\n",
      "|Argentina|    12|     MF|     DI MARÍA|   178|\n",
      "|Argentina|    21|     MF|     LO CELSO|   177|\n",
      "|Argentina|    14|     MF|         MEZA|   180|\n",
      "|Argentina|     9|     DF|        ACUÑA|   172|\n",
      "|Argentina|    24|     GK|    CABALLERO|   186|\n",
      "|Argentina|     3|     DF|      MERCADO|   181|\n",
      "|Argentina|    18|     DF|     OTAMENDI|   181|\n",
      "|Argentina|    17|     DF|         ROJO|   189|\n",
      "|Argentina|     7|     DF|        FAZIO|   199|\n",
      "|Argentina|    13|     GK|       ARMANI|   189|\n",
      "|Argentina|     2|     GK|       GUZMÁN|   192|\n",
      "+---------+------+-------+-------------+------+\n",
      "\n"
     ]
    }
   ],
   "source": [
    "arg = arg.withColumn('Numero', col('Numero') + 1)\n",
    "arg.show(23)"
   ]
  },
  {
   "cell_type": "markdown",
   "metadata": {},
   "source": [
    "#### ***Inner Join***"
   ]
  },
  {
   "cell_type": "code",
   "execution_count": 103,
   "metadata": {},
   "outputs": [
    {
     "name": "stdout",
     "output_type": "stream",
     "text": [
      "+---------+------+-------+-------------+------+-------+------+-------+-------------+------+\n",
      "|  Selecao|Numero|Posicao|Nome_Camiseta|Altura|Selecao|Numero|Posicao|Nome_Camiseta|Altura|\n",
      "+---------+------+-------+-------------+------+-------+------+-------+-------------+------+\n",
      "|Argentina|     4|     DF|   TAGLIAFICO|   169| Brazil|     4|     DF|      GEROMEL|   190|\n",
      "|Argentina|    23|     MF|        PAVÓN|   169| Brazil|    23|     GK|      EDERSON|   188|\n",
      "|Argentina|    16|     MF|      LANZINI|   167| Brazil|    16|     GK|       CASSIO|   195|\n",
      "|Argentina|    19|     DF|       SALVIO|   167| Brazil|    19|     MF|      WILLIAN|   175|\n",
      "|Argentina|    11|     FW|        MESSI|   170| Brazil|    11|     MF|  P. COUTINHO|   172|\n",
      "|Argentina|     5|     DF|      ANSALDI|   181| Brazil|     5|     MF|     CASEMIRO|   185|\n",
      "|Argentina|     6|     MF|       BIGLIA|   175| Brazil|     6|     DF|  FILIPE LUIS|   182|\n",
      "|Argentina|     8|     MF|       BANEGA|   175| Brazil|     8|     MF|   R. AUGUSTO|   186|\n",
      "|Argentina|    15|     DF|   MASCHERANO|   174| Brazil|    15|     MF|     PAULINHO|   181|\n",
      "|Argentina|    22|     FW|       DYBALA|   177| Brazil|    22|     DF|       FAGNER|   168|\n",
      "|Argentina|    20|     FW|       AGÜERO|   172| Brazil|    20|     FW|      FIRMINO|   181|\n",
      "|Argentina|    10|     FW|      HIGUAÍN|   184| Brazil|    10|     FW|    NEYMAR JR|   175|\n",
      "|Argentina|    12|     MF|     DI MARÍA|   178| Brazil|    12|     DF|      MARCELO|   174|\n",
      "|Argentina|    21|     MF|     LO CELSO|   177| Brazil|    21|     FW|       TAISON|   172|\n",
      "|Argentina|    14|     MF|         MEZA|   180| Brazil|    14|     DF|       DANILO|   184|\n",
      "|Argentina|     9|     DF|        ACUÑA|   172| Brazil|     9|     FW|     G. JESUS|   175|\n",
      "|Argentina|     3|     DF|      MERCADO|   181| Brazil|     3|     DF|      MIRANDA|   186|\n",
      "|Argentina|    18|     DF|     OTAMENDI|   181| Brazil|    18|     MF|         FRED|   169|\n",
      "|Argentina|    17|     DF|         ROJO|   189| Brazil|    17|     MF|  FERNANDINHO|   179|\n",
      "|Argentina|     7|     DF|        FAZIO|   199| Brazil|     7|     FW|     D. COSTA|   182|\n",
      "|Argentina|    13|     GK|       ARMANI|   189| Brazil|    13|     DF|   MARQUINHOS|   183|\n",
      "|Argentina|     2|     GK|       GUZMÁN|   192| Brazil|     2|     DF|     T. SILVA|   183|\n",
      "+---------+------+-------+-------------+------+-------+------+-------+-------------+------+\n",
      "\n"
     ]
    }
   ],
   "source": [
    "dfnovo = arg.join(bra, arg.Numero == bra.Numero, 'inner')\n",
    "dfnovo.show(23)"
   ]
  },
  {
   "cell_type": "markdown",
   "metadata": {},
   "source": [
    "#### ***Left Join***"
   ]
  },
  {
   "cell_type": "code",
   "execution_count": 105,
   "metadata": {},
   "outputs": [
    {
     "name": "stdout",
     "output_type": "stream",
     "text": [
      "+---------+------+-------+-------------+------+-------+------+-------+-------------+------+\n",
      "|  Selecao|Numero|Posicao|Nome_Camiseta|Altura|Selecao|Numero|Posicao|Nome_Camiseta|Altura|\n",
      "+---------+------+-------+-------------+------+-------+------+-------+-------------+------+\n",
      "|Argentina|     4|     DF|   TAGLIAFICO|   169| Brazil|     4|     DF|      GEROMEL|   190|\n",
      "|Argentina|    23|     MF|        PAVÓN|   169| Brazil|    23|     GK|      EDERSON|   188|\n",
      "|Argentina|    16|     MF|      LANZINI|   167| Brazil|    16|     GK|       CASSIO|   195|\n",
      "|Argentina|    19|     DF|       SALVIO|   167| Brazil|    19|     MF|      WILLIAN|   175|\n",
      "|Argentina|    11|     FW|        MESSI|   170| Brazil|    11|     MF|  P. COUTINHO|   172|\n",
      "|Argentina|     5|     DF|      ANSALDI|   181| Brazil|     5|     MF|     CASEMIRO|   185|\n",
      "|Argentina|     6|     MF|       BIGLIA|   175| Brazil|     6|     DF|  FILIPE LUIS|   182|\n",
      "|Argentina|     8|     MF|       BANEGA|   175| Brazil|     8|     MF|   R. AUGUSTO|   186|\n",
      "|Argentina|    15|     DF|   MASCHERANO|   174| Brazil|    15|     MF|     PAULINHO|   181|\n",
      "|Argentina|    22|     FW|       DYBALA|   177| Brazil|    22|     DF|       FAGNER|   168|\n",
      "|Argentina|    20|     FW|       AGÜERO|   172| Brazil|    20|     FW|      FIRMINO|   181|\n",
      "|Argentina|    10|     FW|      HIGUAÍN|   184| Brazil|    10|     FW|    NEYMAR JR|   175|\n",
      "|Argentina|    12|     MF|     DI MARÍA|   178| Brazil|    12|     DF|      MARCELO|   174|\n",
      "|Argentina|    21|     MF|     LO CELSO|   177| Brazil|    21|     FW|       TAISON|   172|\n",
      "|Argentina|    14|     MF|         MEZA|   180| Brazil|    14|     DF|       DANILO|   184|\n",
      "|Argentina|     9|     DF|        ACUÑA|   172| Brazil|     9|     FW|     G. JESUS|   175|\n",
      "|Argentina|    24|     GK|    CABALLERO|   186|   NULL|  NULL|   NULL|         NULL|  NULL|\n",
      "|Argentina|     3|     DF|      MERCADO|   181| Brazil|     3|     DF|      MIRANDA|   186|\n",
      "|Argentina|    18|     DF|     OTAMENDI|   181| Brazil|    18|     MF|         FRED|   169|\n",
      "|Argentina|    17|     DF|         ROJO|   189| Brazil|    17|     MF|  FERNANDINHO|   179|\n",
      "|Argentina|     7|     DF|        FAZIO|   199| Brazil|     7|     FW|     D. COSTA|   182|\n",
      "|Argentina|    13|     GK|       ARMANI|   189| Brazil|    13|     DF|   MARQUINHOS|   183|\n",
      "|Argentina|     2|     GK|       GUZMÁN|   192| Brazil|     2|     DF|     T. SILVA|   183|\n",
      "+---------+------+-------+-------------+------+-------+------+-------+-------------+------+\n",
      "\n"
     ]
    }
   ],
   "source": [
    "dfnovo = arg.join(bra, arg['Numero'] == bra['Numero'], 'left')\n",
    "dfnovo.show(23)"
   ]
  },
  {
   "cell_type": "markdown",
   "metadata": {},
   "source": [
    "#### ***Right Join***"
   ]
  },
  {
   "cell_type": "code",
   "execution_count": 107,
   "metadata": {},
   "outputs": [
    {
     "name": "stdout",
     "output_type": "stream",
     "text": [
      "+---------+------+-------+-------------+------+-------+------+-------+-------------+------+\n",
      "|  Selecao|Numero|Posicao|Nome_Camiseta|Altura|Selecao|Numero|Posicao|Nome_Camiseta|Altura|\n",
      "+---------+------+-------+-------------+------+-------+------+-------+-------------+------+\n",
      "|Argentina|    18|     DF|     OTAMENDI|   181| Brazil|    18|     MF|         FRED|   169|\n",
      "|Argentina|    21|     MF|     LO CELSO|   177| Brazil|    21|     FW|       TAISON|   172|\n",
      "|Argentina|    17|     DF|         ROJO|   189| Brazil|    17|     MF|  FERNANDINHO|   179|\n",
      "|Argentina|    22|     FW|       DYBALA|   177| Brazil|    22|     DF|       FAGNER|   168|\n",
      "|Argentina|    10|     FW|      HIGUAÍN|   184| Brazil|    10|     FW|    NEYMAR JR|   175|\n",
      "|Argentina|    11|     FW|        MESSI|   170| Brazil|    11|     MF|  P. COUTINHO|   172|\n",
      "|Argentina|     7|     DF|        FAZIO|   199| Brazil|     7|     FW|     D. COSTA|   182|\n",
      "|Argentina|     6|     MF|       BIGLIA|   175| Brazil|     6|     DF|  FILIPE LUIS|   182|\n",
      "|Argentina|     9|     DF|        ACUÑA|   172| Brazil|     9|     FW|     G. JESUS|   175|\n",
      "|Argentina|    13|     GK|       ARMANI|   189| Brazil|    13|     DF|   MARQUINHOS|   183|\n",
      "|Argentina|    20|     FW|       AGÜERO|   172| Brazil|    20|     FW|      FIRMINO|   181|\n",
      "|Argentina|    19|     DF|       SALVIO|   167| Brazil|    19|     MF|      WILLIAN|   175|\n",
      "|Argentina|     3|     DF|      MERCADO|   181| Brazil|     3|     DF|      MIRANDA|   186|\n",
      "|Argentina|    14|     MF|         MEZA|   180| Brazil|    14|     DF|       DANILO|   184|\n",
      "|Argentina|     2|     GK|       GUZMÁN|   192| Brazil|     2|     DF|     T. SILVA|   183|\n",
      "|Argentina|    12|     MF|     DI MARÍA|   178| Brazil|    12|     DF|      MARCELO|   174|\n",
      "|Argentina|    15|     DF|   MASCHERANO|   174| Brazil|    15|     MF|     PAULINHO|   181|\n",
      "|Argentina|     4|     DF|   TAGLIAFICO|   169| Brazil|     4|     DF|      GEROMEL|   190|\n",
      "|Argentina|     5|     DF|      ANSALDI|   181| Brazil|     5|     MF|     CASEMIRO|   185|\n",
      "|Argentina|     8|     MF|       BANEGA|   175| Brazil|     8|     MF|   R. AUGUSTO|   186|\n",
      "|Argentina|    23|     MF|        PAVÓN|   169| Brazil|    23|     GK|      EDERSON|   188|\n",
      "|     NULL|  NULL|   NULL|         NULL|  NULL| Brazil|     1|     GK|    A. BECKER|   193|\n",
      "|Argentina|    16|     MF|      LANZINI|   167| Brazil|    16|     GK|       CASSIO|   195|\n",
      "+---------+------+-------+-------------+------+-------+------+-------+-------------+------+\n",
      "\n"
     ]
    }
   ],
   "source": [
    "dfnovo = arg.join(bra, arg['Numero'] == bra['Numero'], 'right')\n",
    "dfnovo.show(23)"
   ]
  },
  {
   "cell_type": "markdown",
   "metadata": {},
   "source": [
    "#### ***Full Join***"
   ]
  },
  {
   "cell_type": "code",
   "execution_count": 108,
   "metadata": {},
   "outputs": [
    {
     "name": "stdout",
     "output_type": "stream",
     "text": [
      "+---------+------+-------+-------------+------+-------+------+-------+-------------+------+\n",
      "|  Selecao|Numero|Posicao|Nome_Camiseta|Altura|Selecao|Numero|Posicao|Nome_Camiseta|Altura|\n",
      "+---------+------+-------+-------------+------+-------+------+-------+-------------+------+\n",
      "|     NULL|  NULL|   NULL|         NULL|  NULL| Brazil|     1|     GK|    A. BECKER|   193|\n",
      "|Argentina|     2|     GK|       GUZMÁN|   192| Brazil|     2|     DF|     T. SILVA|   183|\n",
      "|Argentina|     3|     DF|      MERCADO|   181| Brazil|     3|     DF|      MIRANDA|   186|\n",
      "|Argentina|     4|     DF|   TAGLIAFICO|   169| Brazil|     4|     DF|      GEROMEL|   190|\n",
      "|Argentina|     5|     DF|      ANSALDI|   181| Brazil|     5|     MF|     CASEMIRO|   185|\n",
      "|Argentina|     6|     MF|       BIGLIA|   175| Brazil|     6|     DF|  FILIPE LUIS|   182|\n",
      "|Argentina|     7|     DF|        FAZIO|   199| Brazil|     7|     FW|     D. COSTA|   182|\n",
      "|Argentina|     8|     MF|       BANEGA|   175| Brazil|     8|     MF|   R. AUGUSTO|   186|\n",
      "|Argentina|     9|     DF|        ACUÑA|   172| Brazil|     9|     FW|     G. JESUS|   175|\n",
      "|Argentina|    10|     FW|      HIGUAÍN|   184| Brazil|    10|     FW|    NEYMAR JR|   175|\n",
      "|Argentina|    11|     FW|        MESSI|   170| Brazil|    11|     MF|  P. COUTINHO|   172|\n",
      "|Argentina|    12|     MF|     DI MARÍA|   178| Brazil|    12|     DF|      MARCELO|   174|\n",
      "|Argentina|    13|     GK|       ARMANI|   189| Brazil|    13|     DF|   MARQUINHOS|   183|\n",
      "|Argentina|    14|     MF|         MEZA|   180| Brazil|    14|     DF|       DANILO|   184|\n",
      "|Argentina|    15|     DF|   MASCHERANO|   174| Brazil|    15|     MF|     PAULINHO|   181|\n",
      "|Argentina|    16|     MF|      LANZINI|   167| Brazil|    16|     GK|       CASSIO|   195|\n",
      "|Argentina|    17|     DF|         ROJO|   189| Brazil|    17|     MF|  FERNANDINHO|   179|\n",
      "|Argentina|    18|     DF|     OTAMENDI|   181| Brazil|    18|     MF|         FRED|   169|\n",
      "|Argentina|    19|     DF|       SALVIO|   167| Brazil|    19|     MF|      WILLIAN|   175|\n",
      "|Argentina|    20|     FW|       AGÜERO|   172| Brazil|    20|     FW|      FIRMINO|   181|\n",
      "|Argentina|    21|     MF|     LO CELSO|   177| Brazil|    21|     FW|       TAISON|   172|\n",
      "|Argentina|    22|     FW|       DYBALA|   177| Brazil|    22|     DF|       FAGNER|   168|\n",
      "|Argentina|    23|     MF|        PAVÓN|   169| Brazil|    23|     GK|      EDERSON|   188|\n",
      "+---------+------+-------+-------------+------+-------+------+-------+-------------+------+\n",
      "only showing top 23 rows\n",
      "\n"
     ]
    }
   ],
   "source": [
    "dfnovo = arg.join(bra, arg['Numero'] == bra['Numero'], 'full')\n",
    "dfnovo.show(23)"
   ]
  },
  {
   "cell_type": "markdown",
   "metadata": {},
   "source": [
    "#### ***Semi Join***"
   ]
  },
  {
   "cell_type": "code",
   "execution_count": 109,
   "metadata": {},
   "outputs": [
    {
     "name": "stdout",
     "output_type": "stream",
     "text": [
      "+---------+------+-------+-------------+------+\n",
      "|  Selecao|Numero|Posicao|Nome_Camiseta|Altura|\n",
      "+---------+------+-------+-------------+------+\n",
      "|Argentina|     4|     DF|   TAGLIAFICO|   169|\n",
      "|Argentina|    23|     MF|        PAVÓN|   169|\n",
      "|Argentina|    16|     MF|      LANZINI|   167|\n",
      "|Argentina|    19|     DF|       SALVIO|   167|\n",
      "|Argentina|    11|     FW|        MESSI|   170|\n",
      "|Argentina|     5|     DF|      ANSALDI|   181|\n",
      "|Argentina|     6|     MF|       BIGLIA|   175|\n",
      "|Argentina|     8|     MF|       BANEGA|   175|\n",
      "|Argentina|    15|     DF|   MASCHERANO|   174|\n",
      "|Argentina|    22|     FW|       DYBALA|   177|\n",
      "|Argentina|    20|     FW|       AGÜERO|   172|\n",
      "|Argentina|    10|     FW|      HIGUAÍN|   184|\n",
      "|Argentina|    12|     MF|     DI MARÍA|   178|\n",
      "|Argentina|    21|     MF|     LO CELSO|   177|\n",
      "|Argentina|    14|     MF|         MEZA|   180|\n",
      "|Argentina|     9|     DF|        ACUÑA|   172|\n",
      "|Argentina|     3|     DF|      MERCADO|   181|\n",
      "|Argentina|    18|     DF|     OTAMENDI|   181|\n",
      "|Argentina|    17|     DF|         ROJO|   189|\n",
      "|Argentina|     7|     DF|        FAZIO|   199|\n",
      "|Argentina|    13|     GK|       ARMANI|   189|\n",
      "|Argentina|     2|     GK|       GUZMÁN|   192|\n",
      "+---------+------+-------+-------------+------+\n",
      "\n"
     ]
    }
   ],
   "source": [
    "dfnovo = arg.join(bra, arg['Numero'] == bra['Numero'], 'semi')\n",
    "dfnovo.show(23)"
   ]
  },
  {
   "cell_type": "markdown",
   "metadata": {},
   "source": [
    "#### ***Anti Join***"
   ]
  },
  {
   "cell_type": "code",
   "execution_count": 111,
   "metadata": {},
   "outputs": [
    {
     "name": "stdout",
     "output_type": "stream",
     "text": [
      "+-------+------+-------+-------------+------+\n",
      "|Selecao|Numero|Posicao|Nome_Camiseta|Altura|\n",
      "+-------+------+-------+-------------+------+\n",
      "| Brazil|     1|     GK|    A. BECKER|   193|\n",
      "+-------+------+-------+-------------+------+\n",
      "\n"
     ]
    }
   ],
   "source": [
    "dfnovo = bra.join(arg, arg['Numero'] == bra['Numero'], 'anti')\n",
    "dfnovo.show(23)"
   ]
  }
 ],
 "metadata": {
  "kernelspec": {
   "display_name": "Python 3",
   "language": "python",
   "name": "python3"
  },
  "language_info": {
   "codemirror_mode": {
    "name": "ipython",
    "version": 3
   },
   "file_extension": ".py",
   "mimetype": "text/x-python",
   "name": "python",
   "nbconvert_exporter": "python",
   "pygments_lexer": "ipython3",
   "version": "3.11.1"
  }
 },
 "nbformat": 4,
 "nbformat_minor": 2
}
