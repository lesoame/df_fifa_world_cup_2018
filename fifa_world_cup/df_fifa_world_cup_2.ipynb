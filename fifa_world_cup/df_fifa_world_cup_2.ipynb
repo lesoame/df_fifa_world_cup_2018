{
 "cells": [
  {
   "cell_type": "code",
   "execution_count": 1,
   "metadata": {},
   "outputs": [],
   "source": [
    "from pyspark.sql import SparkSession\n",
    "from pyspark.sql.functions import *\n",
    "from pyspark.sql.types import *\n",
    "from pyspark.sql.window import Window"
   ]
  },
  {
   "cell_type": "code",
   "execution_count": 2,
   "metadata": {},
   "outputs": [],
   "source": [
    "spark = ( SparkSession \\\n",
    "         .builder\n",
    "         .master('local')\n",
    "         .appName('df_fifa_world_cup_2')\n",
    "         .getOrCreate()\n",
    ")"
   ]
  },
  {
   "cell_type": "code",
   "execution_count": 3,
   "metadata": {},
   "outputs": [],
   "source": [
    "df = spark.read.csv('arquivo/wc2018-players.csv', header=True)"
   ]
  },
  {
   "cell_type": "code",
   "execution_count": 4,
   "metadata": {},
   "outputs": [
    {
     "name": "stdout",
     "output_type": "stream",
     "text": [
      "root\n",
      " |-- Team: string (nullable = true)\n",
      " |-- #: string (nullable = true)\n",
      " |-- Pos.: string (nullable = true)\n",
      " |-- FIFA Popular Name: string (nullable = true)\n",
      " |-- Birth Date: string (nullable = true)\n",
      " |-- Shirt Name: string (nullable = true)\n",
      " |-- Club: string (nullable = true)\n",
      " |-- Height: string (nullable = true)\n",
      " |-- Weight: string (nullable = true)\n",
      "\n"
     ]
    }
   ],
   "source": [
    "df.printSchema()"
   ]
  },
  {
   "cell_type": "code",
   "execution_count": 6,
   "metadata": {},
   "outputs": [
    {
     "name": "stdout",
     "output_type": "stream",
     "text": [
      "+---------+---+----+------------------+----------+----------+--------------------+------+------+\n",
      "|     Team|  #|Pos.| FIFA Popular Name|Birth Date|Shirt Name|                Club|Height|Weight|\n",
      "+---------+---+----+------------------+----------+----------+--------------------+------+------+\n",
      "|Argentina|  3|  DF|TAGLIAFICO Nicolas|31.08.1992|TAGLIAFICO|      AFC Ajax (NED)|   169|    65|\n",
      "|Argentina| 22|  MF|    PAVON Cristian|21.01.1996|     PAVÓN|CA Boca Juniors (...|   169|    65|\n",
      "|Argentina| 15|  MF|    LANZINI Manuel|15.02.1993|   LANZINI|West Ham United F...|   167|    66|\n",
      "|Argentina| 18|  DF|    SALVIO Eduardo|13.07.1990|    SALVIO|    SL Benfica (POR)|   167|    69|\n",
      "|Argentina| 10|  FW|      MESSI Lionel|24.06.1987|     MESSI|  FC Barcelona (ESP)|   170|    72|\n",
      "+---------+---+----+------------------+----------+----------+--------------------+------+------+\n",
      "only showing top 5 rows\n",
      "\n"
     ]
    }
   ],
   "source": [
    "df.show(5)"
   ]
  },
  {
   "cell_type": "code",
   "execution_count": 9,
   "metadata": {},
   "outputs": [
    {
     "name": "stdout",
     "output_type": "stream",
     "text": [
      "+---------+------+-------+------------------+----------+-------------+--------------------+------+----+\n",
      "|  Selecao|Numero|Posicao|         Nome_FIFA|Nascimento|Nome_Camiseta|                Time|Altura|Peso|\n",
      "+---------+------+-------+------------------+----------+-------------+--------------------+------+----+\n",
      "|Argentina|     3|     DF|TAGLIAFICO Nicolas|31.08.1992|   TAGLIAFICO|      AFC Ajax (NED)|   169|  65|\n",
      "|Argentina|    22|     MF|    PAVON Cristian|21.01.1996|        PAVÓN|CA Boca Juniors (...|   169|  65|\n",
      "|Argentina|    15|     MF|    LANZINI Manuel|15.02.1993|      LANZINI|West Ham United F...|   167|  66|\n",
      "|Argentina|    18|     DF|    SALVIO Eduardo|13.07.1990|       SALVIO|    SL Benfica (POR)|   167|  69|\n",
      "|Argentina|    10|     FW|      MESSI Lionel|24.06.1987|        MESSI|  FC Barcelona (ESP)|   170|  72|\n",
      "+---------+------+-------+------------------+----------+-------------+--------------------+------+----+\n",
      "only showing top 5 rows\n",
      "\n"
     ]
    }
   ],
   "source": [
    "df = df.withColumnRenamed('Team', 'Selecao')\\\n",
    "       .withColumnRenamed('#', 'Numero')\\\n",
    "       .withColumnRenamed('Pos.', 'Posicao')\\\n",
    "       .withColumnRenamed('FIFA Popular Name', 'Nome_FIFA')\\\n",
    "       .withColumnRenamed('Birth Date', 'Nascimento')\\\n",
    "       .withColumnRenamed('Shirt Name', 'Nome_Camiseta')\\\n",
    "       .withColumnRenamed('Club', 'Time')\\\n",
    "       .withColumnRenamed('Height', 'Altura')\\\n",
    "       .withColumnRenamed('Weight', 'Peso')\n",
    "\n",
    "df.show(5)"
   ]
  },
  {
   "cell_type": "code",
   "execution_count": 13,
   "metadata": {},
   "outputs": [],
   "source": [
    "df = df.withColumn('Ano', substring('Nascimento', -4,4))\n",
    "df = df.withColumn('Mes', substring('Nascimento', -7,2))\n",
    "df = df.withColumn('Dia', substring('Nascimento', -10,2))"
   ]
  },
  {
   "cell_type": "code",
   "execution_count": 14,
   "metadata": {},
   "outputs": [
    {
     "name": "stdout",
     "output_type": "stream",
     "text": [
      "+---------+------+-------+------------------+----------+-------------+--------------------+------+----+----+---+---+\n",
      "|  Selecao|Numero|Posicao|         Nome_FIFA|Nascimento|Nome_Camiseta|                Time|Altura|Peso| Ano|Mes|Dia|\n",
      "+---------+------+-------+------------------+----------+-------------+--------------------+------+----+----+---+---+\n",
      "|Argentina|     3|     DF|TAGLIAFICO Nicolas|31.08.1992|   TAGLIAFICO|      AFC Ajax (NED)|   169|  65|1992| 08| 31|\n",
      "|Argentina|    22|     MF|    PAVON Cristian|21.01.1996|        PAVÓN|CA Boca Juniors (...|   169|  65|1996| 01| 21|\n",
      "|Argentina|    15|     MF|    LANZINI Manuel|15.02.1993|      LANZINI|West Ham United F...|   167|  66|1993| 02| 15|\n",
      "|Argentina|    18|     DF|    SALVIO Eduardo|13.07.1990|       SALVIO|    SL Benfica (POR)|   167|  69|1990| 07| 13|\n",
      "|Argentina|    10|     FW|      MESSI Lionel|24.06.1987|        MESSI|  FC Barcelona (ESP)|   170|  72|1987| 06| 24|\n",
      "+---------+------+-------+------------------+----------+-------------+--------------------+------+----+----+---+---+\n",
      "only showing top 5 rows\n",
      "\n"
     ]
    }
   ],
   "source": [
    "df.show(5)"
   ]
  },
  {
   "cell_type": "code",
   "execution_count": 16,
   "metadata": {},
   "outputs": [],
   "source": [
    "df = df.withColumn('Data_Nascimento', concat_ws('-', 'Ano', 'Mes', 'Dia').cast(DateType()))"
   ]
  },
  {
   "cell_type": "code",
   "execution_count": 18,
   "metadata": {},
   "outputs": [
    {
     "name": "stdout",
     "output_type": "stream",
     "text": [
      "+---------+------+-------+------------------+----------+-------------+--------------------+------+----+----+---+---+---------------+\n",
      "|  Selecao|Numero|Posicao|         Nome_FIFA|Nascimento|Nome_Camiseta|                Time|Altura|Peso| Ano|Mes|Dia|Data_Nascimento|\n",
      "+---------+------+-------+------------------+----------+-------------+--------------------+------+----+----+---+---+---------------+\n",
      "|Argentina|     3|     DF|TAGLIAFICO Nicolas|31.08.1992|   TAGLIAFICO|      AFC Ajax (NED)|   169|  65|1992| 08| 31|     1992-08-31|\n",
      "|Argentina|    22|     MF|    PAVON Cristian|21.01.1996|        PAVÓN|CA Boca Juniors (...|   169|  65|1996| 01| 21|     1996-01-21|\n",
      "|Argentina|    15|     MF|    LANZINI Manuel|15.02.1993|      LANZINI|West Ham United F...|   167|  66|1993| 02| 15|     1993-02-15|\n",
      "|Argentina|    18|     DF|    SALVIO Eduardo|13.07.1990|       SALVIO|    SL Benfica (POR)|   167|  69|1990| 07| 13|     1990-07-13|\n",
      "|Argentina|    10|     FW|      MESSI Lionel|24.06.1987|        MESSI|  FC Barcelona (ESP)|   170|  72|1987| 06| 24|     1987-06-24|\n",
      "+---------+------+-------+------------------+----------+-------------+--------------------+------+----+----+---+---+---------------+\n",
      "only showing top 5 rows\n",
      "\n"
     ]
    }
   ],
   "source": [
    "df.show(5)"
   ]
  },
  {
   "cell_type": "code",
   "execution_count": 21,
   "metadata": {},
   "outputs": [
    {
     "name": "stdout",
     "output_type": "stream",
     "text": [
      "+---------+------+-------+------------------+-------------+--------------------+------+----+----+---+---+---------------+\n",
      "|  Selecao|Numero|Posicao|         Nome_FIFA|Nome_Camiseta|                Time|Altura|Peso| Ano|Mes|Dia|Data_Nascimento|\n",
      "+---------+------+-------+------------------+-------------+--------------------+------+----+----+---+---+---------------+\n",
      "|Argentina|     3|     DF|TAGLIAFICO Nicolas|   TAGLIAFICO|      AFC Ajax (NED)|   169|  65|1992| 08| 31|     1992-08-31|\n",
      "|Argentina|    22|     MF|    PAVON Cristian|        PAVÓN|CA Boca Juniors (...|   169|  65|1996| 01| 21|     1996-01-21|\n",
      "|Argentina|    15|     MF|    LANZINI Manuel|      LANZINI|West Ham United F...|   167|  66|1993| 02| 15|     1993-02-15|\n",
      "|Argentina|    18|     DF|    SALVIO Eduardo|       SALVIO|    SL Benfica (POR)|   167|  69|1990| 07| 13|     1990-07-13|\n",
      "|Argentina|    10|     FW|      MESSI Lionel|        MESSI|  FC Barcelona (ESP)|   170|  72|1987| 06| 24|     1987-06-24|\n",
      "+---------+------+-------+------------------+-------------+--------------------+------+----+----+---+---+---------------+\n",
      "only showing top 5 rows\n",
      "\n"
     ]
    }
   ],
   "source": [
    "df = df.drop('Nascimento')\n",
    "df.show(5)"
   ]
  },
  {
   "cell_type": "code",
   "execution_count": 23,
   "metadata": {},
   "outputs": [],
   "source": [
    "df2 = df"
   ]
  },
  {
   "cell_type": "code",
   "execution_count": 24,
   "metadata": {},
   "outputs": [
    {
     "name": "stdout",
     "output_type": "stream",
     "text": [
      "+---------+------+-------+------------------+-------------+--------------------+------+----+----+---+---+---------------+\n",
      "|  Selecao|Numero|Posicao|         Nome_FIFA|Nome_Camiseta|                Time|Altura|Peso| Ano|Mes|Dia|Data_Nascimento|\n",
      "+---------+------+-------+------------------+-------------+--------------------+------+----+----+---+---+---------------+\n",
      "|Argentina|     3|     DF|TAGLIAFICO Nicolas|   TAGLIAFICO|      AFC Ajax (NED)|   169|  65|1992| 08| 31|     1992-08-31|\n",
      "|Argentina|    22|     MF|    PAVON Cristian|        PAVÓN|CA Boca Juniors (...|   169|  65|1996| 01| 21|     1996-01-21|\n",
      "|Argentina|    15|     MF|    LANZINI Manuel|      LANZINI|West Ham United F...|   167|  66|1993| 02| 15|     1993-02-15|\n",
      "|Argentina|    18|     DF|    SALVIO Eduardo|       SALVIO|    SL Benfica (POR)|   167|  69|1990| 07| 13|     1990-07-13|\n",
      "|Argentina|    10|     FW|      MESSI Lionel|        MESSI|  FC Barcelona (ESP)|   170|  72|1987| 06| 24|     1987-06-24|\n",
      "+---------+------+-------+------------------+-------------+--------------------+------+----+----+---+---+---------------+\n",
      "only showing top 5 rows\n",
      "\n"
     ]
    }
   ],
   "source": [
    "df.show(5)"
   ]
  },
  {
   "cell_type": "code",
   "execution_count": 28,
   "metadata": {},
   "outputs": [
    {
     "name": "stdout",
     "output_type": "stream",
     "text": [
      "+---------+------+-------+------------------+-------------+--------------------+------+----+----+---+---+---------------+---+\n",
      "|  Selecao|Numero|Posicao|         Nome_FIFA|Nome_Camiseta|                Time|Altura|Peso| Ano|Mes|Dia|Data_Nascimento|  n|\n",
      "+---------+------+-------+------------------+-------------+--------------------+------+----+----+---+---+---------------+---+\n",
      "|Argentina|     6|     DF|    FAZIO Federico|        FAZIO|       AS Roma (ITA)|   199|  85|1987| 03| 17|     1987-03-17|  1|\n",
      "|Argentina|     1|     GK|     GUZMAN Nahuel|       GUZMÁN|   Tigres UANL (MEX)|   192|  90|1986| 02| 10|     1986-02-10|  2|\n",
      "|Argentina|    16|     DF|       ROJO Marcos|         ROJO|Manchester United...|   189|  82|1990| 03| 20|     1990-03-20|  3|\n",
      "|Argentina|    12|     GK|     ARMANI Franco|       ARMANI|CA River Plate (ARG)|   189|  85|1986| 10| 16|     1986-10-16|  4|\n",
      "|Argentina|    23|     GK|CABALLERO Wilfredo|    CABALLERO|    Chelsea FC (ENG)|   186|  80|1981| 09| 28|     1981-09-28|  5|\n",
      "|Argentina|     9|     FW|   HIGUAIN Gonzalo|      HIGUAÍN|   Juventus FC (ITA)|   184|  75|1987| 12| 10|     1987-12-10|  6|\n",
      "|Argentina|     4|     DF|  ANSALDI Cristian|      ANSALDI|     Torino FC (ITA)|   181|  73|1986| 09| 20|     1986-09-20|  7|\n",
      "|Argentina|     2|     DF|   MERCADO Gabriel|      MERCADO|    Sevilla FC (ESP)|   181|  81|1987| 03| 18|     1987-03-18|  8|\n",
      "|Argentina|    17|     DF|  OTAMENDI Nicolas|     OTAMENDI|Manchester City F...|   181|  81|1988| 02| 12|     1988-02-12|  9|\n",
      "|Argentina|    13|     MF|  MEZA Maximiliano|         MEZA|CA Independiente ...|   180|  76|1992| 12| 15|     1992-12-15| 10|\n",
      "|Argentina|    11|     MF|    DI MARIA Angel|     DI MARÍA|Paris Saint-Germa...|   178|  75|1988| 02| 14|     1988-02-14| 11|\n",
      "|Argentina|    21|     FW|      DYBALA Paulo|       DYBALA|   Juventus FC (ITA)|   177|  73|1993| 11| 15|     1993-11-15| 12|\n",
      "|Argentina|    20|     MF|  LO CELSO Giovani|     LO CELSO|Paris Saint-Germa...|   177|  75|1996| 04| 09|     1996-04-09| 13|\n",
      "|Argentina|     5|     MF|      BIGLIA Lucas|       BIGLIA|      AC Milan (ITA)|   175|  73|1986| 01| 30|     1986-01-30| 14|\n",
      "|Argentina|     7|     MF|       BANEGA Ever|       BANEGA|    Sevilla FC (ESP)|   175|  73|1988| 06| 29|     1988-06-29| 15|\n",
      "|Argentina|    14|     DF| MASCHERANO Javier|   MASCHERANO|Hebei China Fortu...|   174|  73|1984| 06| 08|     1984-06-08| 16|\n",
      "|Argentina|    19|     FW|     AGUERO Sergio|       AGÜERO|Manchester City F...|   172|  74|1988| 06| 02|     1988-06-02| 17|\n",
      "|Argentina|     8|     DF|      ACUNA Marcos|        ACUÑA|   Sporting CP (POR)|   172|  77|1991| 10| 28|     1991-10-28| 18|\n",
      "|Argentina|    10|     FW|      MESSI Lionel|        MESSI|  FC Barcelona (ESP)|   170|  72|1987| 06| 24|     1987-06-24| 19|\n",
      "|Argentina|     3|     DF|TAGLIAFICO Nicolas|   TAGLIAFICO|      AFC Ajax (NED)|   169|  65|1992| 08| 31|     1992-08-31| 20|\n",
      "|Argentina|    22|     MF|    PAVON Cristian|        PAVÓN|CA Boca Juniors (...|   169|  65|1996| 01| 21|     1996-01-21| 21|\n",
      "|Argentina|    15|     MF|    LANZINI Manuel|      LANZINI|West Ham United F...|   167|  66|1993| 02| 15|     1993-02-15| 22|\n",
      "|Argentina|    18|     DF|    SALVIO Eduardo|       SALVIO|    SL Benfica (POR)|   167|  69|1990| 07| 13|     1990-07-13| 23|\n",
      "|Australia|    12|     GK|        JONES Brad|        JONES|Feyenoord Rotterd...|   193|  87|1982| 03| 19|     1982-03-19|  1|\n",
      "|Australia|     9|     FW|        JURIC Tomi|        JURIC|     FC Luzern (SUI)|   190|  80|1991| 07| 22|     1991-07-22|  2|\n",
      "|Australia|     6|     DF|    JURMAN Matthew|       JURMAN|Suwon Samsung Blu...|   190|  83|1989| 12| 08|     1989-12-08|  3|\n",
      "|Australia|    23|     MF|         ROGIC Tom|        ROGIC|     Celtic FC (SCO)|   189|  88|1992| 12| 16|     1992-12-16|  4|\n",
      "|Australia|    15|     MF|      JEDINAK Mile|      JEDINAK|Aston Villa FC (ENG)|   188|  78|1984| 08| 03|     1984-08-03|  5|\n",
      "|Australia|     2|     DF|     DEGENEK Milos|      DEGENEK|Yokohama F-Marino...|   187|  85|1994| 04| 28|     1994-04-28|  6|\n",
      "|Australia|    18|     GK|     VUKOVIC Danny|      VUKOVIC|      KRC Genk (BEL)|   187|  94|1985| 03| 27|     1985-03-27|  7|\n",
      "+---------+------+-------+------------------+-------------+--------------------+------+----+----+---+---+---------------+---+\n",
      "only showing top 30 rows\n",
      "\n"
     ]
    }
   ],
   "source": [
    "num_linha = Window.partitionBy('Selecao').orderBy(desc('Altura'))\n",
    "\n",
    "df.withColumn('n', row_number().over(num_linha)).show(30)"
   ]
  },
  {
   "cell_type": "code",
   "execution_count": 30,
   "metadata": {},
   "outputs": [
    {
     "name": "stdout",
     "output_type": "stream",
     "text": [
      "+---------+------+-------+------------------+-------------+--------------------+------+----+----+---+---+---------------+----+\n",
      "|  Selecao|Numero|Posicao|         Nome_FIFA|Nome_Camiseta|                Time|Altura|Peso| Ano|Mes|Dia|Data_Nascimento|rank|\n",
      "+---------+------+-------+------------------+-------------+--------------------+------+----+----+---+---+---------------+----+\n",
      "|Argentina|     6|     DF|    FAZIO Federico|        FAZIO|       AS Roma (ITA)|   199|  85|1987| 03| 17|     1987-03-17|   1|\n",
      "|Argentina|     1|     GK|     GUZMAN Nahuel|       GUZMÁN|   Tigres UANL (MEX)|   192|  90|1986| 02| 10|     1986-02-10|   2|\n",
      "|Argentina|    16|     DF|       ROJO Marcos|         ROJO|Manchester United...|   189|  82|1990| 03| 20|     1990-03-20|   3|\n",
      "|Argentina|    12|     GK|     ARMANI Franco|       ARMANI|CA River Plate (ARG)|   189|  85|1986| 10| 16|     1986-10-16|   3|\n",
      "|Argentina|    23|     GK|CABALLERO Wilfredo|    CABALLERO|    Chelsea FC (ENG)|   186|  80|1981| 09| 28|     1981-09-28|   5|\n",
      "|Argentina|     9|     FW|   HIGUAIN Gonzalo|      HIGUAÍN|   Juventus FC (ITA)|   184|  75|1987| 12| 10|     1987-12-10|   6|\n",
      "|Argentina|     4|     DF|  ANSALDI Cristian|      ANSALDI|     Torino FC (ITA)|   181|  73|1986| 09| 20|     1986-09-20|   7|\n",
      "|Argentina|     2|     DF|   MERCADO Gabriel|      MERCADO|    Sevilla FC (ESP)|   181|  81|1987| 03| 18|     1987-03-18|   7|\n",
      "|Argentina|    17|     DF|  OTAMENDI Nicolas|     OTAMENDI|Manchester City F...|   181|  81|1988| 02| 12|     1988-02-12|   7|\n",
      "|Argentina|    13|     MF|  MEZA Maximiliano|         MEZA|CA Independiente ...|   180|  76|1992| 12| 15|     1992-12-15|  10|\n",
      "|Argentina|    11|     MF|    DI MARIA Angel|     DI MARÍA|Paris Saint-Germa...|   178|  75|1988| 02| 14|     1988-02-14|  11|\n",
      "|Argentina|    21|     FW|      DYBALA Paulo|       DYBALA|   Juventus FC (ITA)|   177|  73|1993| 11| 15|     1993-11-15|  12|\n",
      "|Argentina|    20|     MF|  LO CELSO Giovani|     LO CELSO|Paris Saint-Germa...|   177|  75|1996| 04| 09|     1996-04-09|  12|\n",
      "|Argentina|     5|     MF|      BIGLIA Lucas|       BIGLIA|      AC Milan (ITA)|   175|  73|1986| 01| 30|     1986-01-30|  14|\n",
      "|Argentina|     7|     MF|       BANEGA Ever|       BANEGA|    Sevilla FC (ESP)|   175|  73|1988| 06| 29|     1988-06-29|  14|\n",
      "|Argentina|    14|     DF| MASCHERANO Javier|   MASCHERANO|Hebei China Fortu...|   174|  73|1984| 06| 08|     1984-06-08|  16|\n",
      "|Argentina|    19|     FW|     AGUERO Sergio|       AGÜERO|Manchester City F...|   172|  74|1988| 06| 02|     1988-06-02|  17|\n",
      "|Argentina|     8|     DF|      ACUNA Marcos|        ACUÑA|   Sporting CP (POR)|   172|  77|1991| 10| 28|     1991-10-28|  17|\n",
      "|Argentina|    10|     FW|      MESSI Lionel|        MESSI|  FC Barcelona (ESP)|   170|  72|1987| 06| 24|     1987-06-24|  19|\n",
      "|Argentina|     3|     DF|TAGLIAFICO Nicolas|   TAGLIAFICO|      AFC Ajax (NED)|   169|  65|1992| 08| 31|     1992-08-31|  20|\n",
      "|Argentina|    22|     MF|    PAVON Cristian|        PAVÓN|CA Boca Juniors (...|   169|  65|1996| 01| 21|     1996-01-21|  20|\n",
      "|Argentina|    15|     MF|    LANZINI Manuel|      LANZINI|West Ham United F...|   167|  66|1993| 02| 15|     1993-02-15|  22|\n",
      "|Argentina|    18|     DF|    SALVIO Eduardo|       SALVIO|    SL Benfica (POR)|   167|  69|1990| 07| 13|     1990-07-13|  22|\n",
      "|Australia|    12|     GK|        JONES Brad|        JONES|Feyenoord Rotterd...|   193|  87|1982| 03| 19|     1982-03-19|   1|\n",
      "+---------+------+-------+------------------+-------------+--------------------+------+----+----+---+---+---------------+----+\n",
      "only showing top 24 rows\n",
      "\n"
     ]
    }
   ],
   "source": [
    "rank1 = Window.partitionBy('Selecao').orderBy(desc('Altura'))\n",
    "\n",
    "df.withColumn('rank', rank().over(rank1)).show(24)"
   ]
  },
  {
   "cell_type": "code",
   "execution_count": 32,
   "metadata": {},
   "outputs": [
    {
     "name": "stdout",
     "output_type": "stream",
     "text": [
      "+---------+------+-------+------------------+-------------+--------------------+------+----+----+---+---+---------------+-----+\n",
      "|  Selecao|Numero|Posicao|         Nome_FIFA|Nome_Camiseta|                Time|Altura|Peso| Ano|Mes|Dia|Data_Nascimento|rank2|\n",
      "+---------+------+-------+------------------+-------------+--------------------+------+----+----+---+---+---------------+-----+\n",
      "|Argentina|     6|     DF|    FAZIO Federico|        FAZIO|       AS Roma (ITA)|   199|  85|1987| 03| 17|     1987-03-17|    1|\n",
      "|Argentina|     1|     GK|     GUZMAN Nahuel|       GUZMÁN|   Tigres UANL (MEX)|   192|  90|1986| 02| 10|     1986-02-10|    2|\n",
      "|Argentina|    16|     DF|       ROJO Marcos|         ROJO|Manchester United...|   189|  82|1990| 03| 20|     1990-03-20|    3|\n",
      "|Argentina|    12|     GK|     ARMANI Franco|       ARMANI|CA River Plate (ARG)|   189|  85|1986| 10| 16|     1986-10-16|    3|\n",
      "|Argentina|    23|     GK|CABALLERO Wilfredo|    CABALLERO|    Chelsea FC (ENG)|   186|  80|1981| 09| 28|     1981-09-28|    4|\n",
      "|Argentina|     9|     FW|   HIGUAIN Gonzalo|      HIGUAÍN|   Juventus FC (ITA)|   184|  75|1987| 12| 10|     1987-12-10|    5|\n",
      "|Argentina|     4|     DF|  ANSALDI Cristian|      ANSALDI|     Torino FC (ITA)|   181|  73|1986| 09| 20|     1986-09-20|    6|\n",
      "|Argentina|     2|     DF|   MERCADO Gabriel|      MERCADO|    Sevilla FC (ESP)|   181|  81|1987| 03| 18|     1987-03-18|    6|\n",
      "|Argentina|    17|     DF|  OTAMENDI Nicolas|     OTAMENDI|Manchester City F...|   181|  81|1988| 02| 12|     1988-02-12|    6|\n",
      "|Argentina|    13|     MF|  MEZA Maximiliano|         MEZA|CA Independiente ...|   180|  76|1992| 12| 15|     1992-12-15|    7|\n",
      "|Argentina|    11|     MF|    DI MARIA Angel|     DI MARÍA|Paris Saint-Germa...|   178|  75|1988| 02| 14|     1988-02-14|    8|\n",
      "|Argentina|    21|     FW|      DYBALA Paulo|       DYBALA|   Juventus FC (ITA)|   177|  73|1993| 11| 15|     1993-11-15|    9|\n",
      "|Argentina|    20|     MF|  LO CELSO Giovani|     LO CELSO|Paris Saint-Germa...|   177|  75|1996| 04| 09|     1996-04-09|    9|\n",
      "|Argentina|     5|     MF|      BIGLIA Lucas|       BIGLIA|      AC Milan (ITA)|   175|  73|1986| 01| 30|     1986-01-30|   10|\n",
      "|Argentina|     7|     MF|       BANEGA Ever|       BANEGA|    Sevilla FC (ESP)|   175|  73|1988| 06| 29|     1988-06-29|   10|\n",
      "|Argentina|    14|     DF| MASCHERANO Javier|   MASCHERANO|Hebei China Fortu...|   174|  73|1984| 06| 08|     1984-06-08|   11|\n",
      "|Argentina|    19|     FW|     AGUERO Sergio|       AGÜERO|Manchester City F...|   172|  74|1988| 06| 02|     1988-06-02|   12|\n",
      "|Argentina|     8|     DF|      ACUNA Marcos|        ACUÑA|   Sporting CP (POR)|   172|  77|1991| 10| 28|     1991-10-28|   12|\n",
      "|Argentina|    10|     FW|      MESSI Lionel|        MESSI|  FC Barcelona (ESP)|   170|  72|1987| 06| 24|     1987-06-24|   13|\n",
      "|Argentina|     3|     DF|TAGLIAFICO Nicolas|   TAGLIAFICO|      AFC Ajax (NED)|   169|  65|1992| 08| 31|     1992-08-31|   14|\n",
      "|Argentina|    22|     MF|    PAVON Cristian|        PAVÓN|CA Boca Juniors (...|   169|  65|1996| 01| 21|     1996-01-21|   14|\n",
      "|Argentina|    15|     MF|    LANZINI Manuel|      LANZINI|West Ham United F...|   167|  66|1993| 02| 15|     1993-02-15|   15|\n",
      "|Argentina|    18|     DF|    SALVIO Eduardo|       SALVIO|    SL Benfica (POR)|   167|  69|1990| 07| 13|     1990-07-13|   15|\n",
      "|Australia|    12|     GK|        JONES Brad|        JONES|Feyenoord Rotterd...|   193|  87|1982| 03| 19|     1982-03-19|    1|\n",
      "|Australia|     9|     FW|        JURIC Tomi|        JURIC|     FC Luzern (SUI)|   190|  80|1991| 07| 22|     1991-07-22|    2|\n",
      "+---------+------+-------+------------------+-------------+--------------------+------+----+----+---+---+---------------+-----+\n",
      "only showing top 25 rows\n",
      "\n"
     ]
    }
   ],
   "source": [
    "rank2 = Window.partitionBy('Selecao').orderBy(desc('Altura'))\n",
    "\n",
    "df.withColumn('rank2', dense_rank().over(rank2)).show(25)"
   ]
  },
  {
   "cell_type": "code",
   "execution_count": 35,
   "metadata": {},
   "outputs": [
    {
     "name": "stdout",
     "output_type": "stream",
     "text": [
      "+---------+------+-------+------------------+-------------+--------------------+------+----+----+---+---+---------------+--------------------+\n",
      "|  Selecao|Numero|Posicao|         Nome_FIFA|Nome_Camiseta|                Time|Altura|Peso| Ano|Mes|Dia|Data_Nascimento|                   %|\n",
      "+---------+------+-------+------------------+-------------+--------------------+------+----+----+---+---+---------------+--------------------+\n",
      "|Argentina|     6|     DF|    FAZIO Federico|        FAZIO|       AS Roma (ITA)|   199|  85|1987| 03| 17|     1987-03-17|                 0.0|\n",
      "|Argentina|     1|     GK|     GUZMAN Nahuel|       GUZMÁN|   Tigres UANL (MEX)|   192|  90|1986| 02| 10|     1986-02-10|0.045454545454545456|\n",
      "|Argentina|    16|     DF|       ROJO Marcos|         ROJO|Manchester United...|   189|  82|1990| 03| 20|     1990-03-20| 0.09090909090909091|\n",
      "|Argentina|    12|     GK|     ARMANI Franco|       ARMANI|CA River Plate (ARG)|   189|  85|1986| 10| 16|     1986-10-16| 0.09090909090909091|\n",
      "|Argentina|    23|     GK|CABALLERO Wilfredo|    CABALLERO|    Chelsea FC (ENG)|   186|  80|1981| 09| 28|     1981-09-28| 0.18181818181818182|\n",
      "|Argentina|     9|     FW|   HIGUAIN Gonzalo|      HIGUAÍN|   Juventus FC (ITA)|   184|  75|1987| 12| 10|     1987-12-10| 0.22727272727272727|\n",
      "|Argentina|     4|     DF|  ANSALDI Cristian|      ANSALDI|     Torino FC (ITA)|   181|  73|1986| 09| 20|     1986-09-20|  0.2727272727272727|\n",
      "|Argentina|     2|     DF|   MERCADO Gabriel|      MERCADO|    Sevilla FC (ESP)|   181|  81|1987| 03| 18|     1987-03-18|  0.2727272727272727|\n",
      "|Argentina|    17|     DF|  OTAMENDI Nicolas|     OTAMENDI|Manchester City F...|   181|  81|1988| 02| 12|     1988-02-12|  0.2727272727272727|\n",
      "|Argentina|    13|     MF|  MEZA Maximiliano|         MEZA|CA Independiente ...|   180|  76|1992| 12| 15|     1992-12-15|  0.4090909090909091|\n",
      "|Argentina|    11|     MF|    DI MARIA Angel|     DI MARÍA|Paris Saint-Germa...|   178|  75|1988| 02| 14|     1988-02-14| 0.45454545454545453|\n",
      "|Argentina|    21|     FW|      DYBALA Paulo|       DYBALA|   Juventus FC (ITA)|   177|  73|1993| 11| 15|     1993-11-15|                 0.5|\n",
      "|Argentina|    20|     MF|  LO CELSO Giovani|     LO CELSO|Paris Saint-Germa...|   177|  75|1996| 04| 09|     1996-04-09|                 0.5|\n",
      "|Argentina|     5|     MF|      BIGLIA Lucas|       BIGLIA|      AC Milan (ITA)|   175|  73|1986| 01| 30|     1986-01-30|  0.5909090909090909|\n",
      "|Argentina|     7|     MF|       BANEGA Ever|       BANEGA|    Sevilla FC (ESP)|   175|  73|1988| 06| 29|     1988-06-29|  0.5909090909090909|\n",
      "|Argentina|    14|     DF| MASCHERANO Javier|   MASCHERANO|Hebei China Fortu...|   174|  73|1984| 06| 08|     1984-06-08|  0.6818181818181818|\n",
      "|Argentina|    19|     FW|     AGUERO Sergio|       AGÜERO|Manchester City F...|   172|  74|1988| 06| 02|     1988-06-02|  0.7272727272727273|\n",
      "|Argentina|     8|     DF|      ACUNA Marcos|        ACUÑA|   Sporting CP (POR)|   172|  77|1991| 10| 28|     1991-10-28|  0.7272727272727273|\n",
      "|Argentina|    10|     FW|      MESSI Lionel|        MESSI|  FC Barcelona (ESP)|   170|  72|1987| 06| 24|     1987-06-24|  0.8181818181818182|\n",
      "|Argentina|     3|     DF|TAGLIAFICO Nicolas|   TAGLIAFICO|      AFC Ajax (NED)|   169|  65|1992| 08| 31|     1992-08-31|  0.8636363636363636|\n",
      "|Argentina|    22|     MF|    PAVON Cristian|        PAVÓN|CA Boca Juniors (...|   169|  65|1996| 01| 21|     1996-01-21|  0.8636363636363636|\n",
      "|Argentina|    15|     MF|    LANZINI Manuel|      LANZINI|West Ham United F...|   167|  66|1993| 02| 15|     1993-02-15|  0.9545454545454546|\n",
      "|Argentina|    18|     DF|    SALVIO Eduardo|       SALVIO|    SL Benfica (POR)|   167|  69|1990| 07| 13|     1990-07-13|  0.9545454545454546|\n",
      "|Australia|    12|     GK|        JONES Brad|        JONES|Feyenoord Rotterd...|   193|  87|1982| 03| 19|     1982-03-19|                 0.0|\n",
      "|Australia|     9|     FW|        JURIC Tomi|        JURIC|     FC Luzern (SUI)|   190|  80|1991| 07| 22|     1991-07-22|0.045454545454545456|\n",
      "|Australia|     6|     DF|    JURMAN Matthew|       JURMAN|Suwon Samsung Blu...|   190|  83|1989| 12| 08|     1989-12-08|0.045454545454545456|\n",
      "|Australia|    23|     MF|         ROGIC Tom|        ROGIC|     Celtic FC (SCO)|   189|  88|1992| 12| 16|     1992-12-16| 0.13636363636363635|\n",
      "|Australia|    15|     MF|      JEDINAK Mile|      JEDINAK|Aston Villa FC (ENG)|   188|  78|1984| 08| 03|     1984-08-03| 0.18181818181818182|\n",
      "|Australia|     2|     DF|     DEGENEK Milos|      DEGENEK|Yokohama F-Marino...|   187|  85|1994| 04| 28|     1994-04-28| 0.22727272727272727|\n",
      "|Australia|    18|     GK|     VUKOVIC Danny|      VUKOVIC|      KRC Genk (BEL)|   187|  94|1985| 03| 27|     1985-03-27| 0.22727272727272727|\n",
      "|Australia|     1|     GK|       RYAN Mathew|         RYAN|Brighton & Hove A...|   184|  82|1992| 04| 08|     1992-04-08|  0.3181818181818182|\n",
      "|Australia|    20|     DF|   SAINSBURY Trent|    SAINSBURY|Grasshopper Club ...|   183|  76|1992| 01| 05|     1992-01-05| 0.36363636363636365|\n",
      "|Australia|     7|     FW|     LECKIE Mathew|       LECKIE|    Hertha BSC (GER)|   181|  84|1991| 02| 04|     1991-02-04|  0.4090909090909091|\n",
      "|Australia|    10|     FW|      KRUSE Robbie|        KRUSE|    VfL Bochum (GER)|   180|  66|1988| 10| 05|     1988-10-05| 0.45454545454545453|\n",
      "|Australia|     4|     FW|        CAHILL Tim|       CAHILL|   Millwall FC (ENG)|   180|  76|1979| 12| 06|     1979-12-06| 0.45454545454545453|\n",
      "|Australia|    22|     MF|    IRVINE Jackson|       IRVINE|  Hull City FC (ENG)|   180|  77|1993| 03| 07|     1993-03-07| 0.45454545454545453|\n",
      "|Australia|     3|     DF|    MEREDITH James|     MEREDITH|   Millwall FC (ENG)|   179|  71|1988| 04| 05|     1988-04-05|  0.5909090909090909|\n",
      "|Australia|    14|     FW|    MacLAREN Jamie|     MACLAREN|  Hibernian FC (SCO)|   178|  72|1993| 07| 29|     1993-07-29|  0.6363636363636364|\n",
      "|Australia|     5|     DF|     MILLIGAN Mark|     MILLIGAN|    Al Ahli SC (KSA)|   178|  78|1985| 08| 04|     1985-08-04|  0.6363636363636364|\n",
      "|Australia|    11|     FW|    NABBOUT Andrew|      NABBOUT|    Urawa Reds (JPN)|   178|  85|1992| 12| 17|     1992-12-17|  0.6363636363636364|\n",
      "|Australia|    21|     FW|PETRATOS Dimitrios|     PETRATOS|Newcastle United ...|   176|  72|1992| 11| 10|     1992-11-10|  0.7727272727272727|\n",
      "|Australia|     8|     MF|    LUONGO Massimo|       LUONGO|Queens Park Range...|   176|  76|1992| 09| 25|     1992-09-25|  0.7727272727272727|\n",
      "|Australia|    13|     MF|        MOOY Aaron|         MOOY|Huddersfield Town...|   173|  72|1990| 09| 15|     1990-09-15|  0.8636363636363636|\n",
      "|Australia|    17|     FW|     ARZANI Daniel|       ARZANI|Melbourne City FC...|   171|  73|1999| 01| 04|     1999-01-04|  0.9090909090909091|\n",
      "|Australia|    16|     DF|       BEHICH Aziz|       BEHICH|     Bursaspor (TUR)|   170|  63|1990| 12| 16|     1990-12-16|  0.9545454545454546|\n",
      "|Australia|    19|     DF|     RISDON Joshua|       RISDON|WS Wanderers FC (...|   169|  70|1992| 07| 27|     1992-07-27|                 1.0|\n",
      "|  Belgium|     1|     GK|  COURTOIS Thibaut|     COURTOIS|    Chelsea FC (ENG)|   199|  91|1992| 05| 11|     1992-05-11|                 0.0|\n",
      "|  Belgium|    13|     GK|     CASTEELS Koen|     CASTEELS| VfL Wolfsburg (GER)|   197|  86|1992| 06| 25|     1992-06-25|0.045454545454545456|\n",
      "|  Belgium|     8|     MF| FELLAINI Marouane|     FELLAINI|Manchester United...|   194|  85|1987| 11| 22|     1987-11-22| 0.09090909090909091|\n",
      "|  Belgium|    12|     GK|    MIGNOLET Simon|     MIGNOLET|  Liverpool FC (ENG)|   193|  87|1988| 03| 06|     1988-03-06| 0.13636363636363635|\n",
      "+---------+------+-------+------------------+-------------+--------------------+------+----+----+---+---+---------------+--------------------+\n",
      "only showing top 50 rows\n",
      "\n"
     ]
    }
   ],
   "source": [
    "porcentagem = Window.partitionBy('Selecao').orderBy(desc('Altura'))\n",
    "\n",
    "df.withColumn('%', percent_rank().over(porcentagem)).show(50)"
   ]
  },
  {
   "cell_type": "code",
   "execution_count": 39,
   "metadata": {},
   "outputs": [
    {
     "name": "stdout",
     "output_type": "stream",
     "text": [
      "+---------+------+-------+------------------+-------------+--------------------+------+----+----+---+---+---------------+------+\n",
      "|  Selecao|Numero|Posicao|         Nome_FIFA|Nome_Camiseta|                Time|Altura|Peso| Ano|Mes|Dia|Data_Nascimento|partes|\n",
      "+---------+------+-------+------------------+-------------+--------------------+------+----+----+---+---+---------------+------+\n",
      "|Argentina|     6|     DF|    FAZIO Federico|        FAZIO|       AS Roma (ITA)|   199|  85|1987| 03| 17|     1987-03-17|     1|\n",
      "|Argentina|     1|     GK|     GUZMAN Nahuel|       GUZMÁN|   Tigres UANL (MEX)|   192|  90|1986| 02| 10|     1986-02-10|     1|\n",
      "|Argentina|    16|     DF|       ROJO Marcos|         ROJO|Manchester United...|   189|  82|1990| 03| 20|     1990-03-20|     1|\n",
      "|Argentina|    12|     GK|     ARMANI Franco|       ARMANI|CA River Plate (ARG)|   189|  85|1986| 10| 16|     1986-10-16|     1|\n",
      "|Argentina|    23|     GK|CABALLERO Wilfredo|    CABALLERO|    Chelsea FC (ENG)|   186|  80|1981| 09| 28|     1981-09-28|     1|\n",
      "|Argentina|     9|     FW|   HIGUAIN Gonzalo|      HIGUAÍN|   Juventus FC (ITA)|   184|  75|1987| 12| 10|     1987-12-10|     2|\n",
      "|Argentina|     4|     DF|  ANSALDI Cristian|      ANSALDI|     Torino FC (ITA)|   181|  73|1986| 09| 20|     1986-09-20|     2|\n",
      "|Argentina|     2|     DF|   MERCADO Gabriel|      MERCADO|    Sevilla FC (ESP)|   181|  81|1987| 03| 18|     1987-03-18|     2|\n",
      "|Argentina|    17|     DF|  OTAMENDI Nicolas|     OTAMENDI|Manchester City F...|   181|  81|1988| 02| 12|     1988-02-12|     2|\n",
      "|Argentina|    13|     MF|  MEZA Maximiliano|         MEZA|CA Independiente ...|   180|  76|1992| 12| 15|     1992-12-15|     2|\n",
      "|Argentina|    11|     MF|    DI MARIA Angel|     DI MARÍA|Paris Saint-Germa...|   178|  75|1988| 02| 14|     1988-02-14|     3|\n",
      "|Argentina|    21|     FW|      DYBALA Paulo|       DYBALA|   Juventus FC (ITA)|   177|  73|1993| 11| 15|     1993-11-15|     3|\n",
      "|Argentina|    20|     MF|  LO CELSO Giovani|     LO CELSO|Paris Saint-Germa...|   177|  75|1996| 04| 09|     1996-04-09|     3|\n",
      "|Argentina|     5|     MF|      BIGLIA Lucas|       BIGLIA|      AC Milan (ITA)|   175|  73|1986| 01| 30|     1986-01-30|     3|\n",
      "|Argentina|     7|     MF|       BANEGA Ever|       BANEGA|    Sevilla FC (ESP)|   175|  73|1988| 06| 29|     1988-06-29|     3|\n",
      "|Argentina|    14|     DF| MASCHERANO Javier|   MASCHERANO|Hebei China Fortu...|   174|  73|1984| 06| 08|     1984-06-08|     4|\n",
      "|Argentina|    19|     FW|     AGUERO Sergio|       AGÜERO|Manchester City F...|   172|  74|1988| 06| 02|     1988-06-02|     4|\n",
      "|Argentina|     8|     DF|      ACUNA Marcos|        ACUÑA|   Sporting CP (POR)|   172|  77|1991| 10| 28|     1991-10-28|     4|\n",
      "|Argentina|    10|     FW|      MESSI Lionel|        MESSI|  FC Barcelona (ESP)|   170|  72|1987| 06| 24|     1987-06-24|     4|\n",
      "|Argentina|     3|     DF|TAGLIAFICO Nicolas|   TAGLIAFICO|      AFC Ajax (NED)|   169|  65|1992| 08| 31|     1992-08-31|     5|\n",
      "|Argentina|    22|     MF|    PAVON Cristian|        PAVÓN|CA Boca Juniors (...|   169|  65|1996| 01| 21|     1996-01-21|     5|\n",
      "|Argentina|    15|     MF|    LANZINI Manuel|      LANZINI|West Ham United F...|   167|  66|1993| 02| 15|     1993-02-15|     5|\n",
      "|Argentina|    18|     DF|    SALVIO Eduardo|       SALVIO|    SL Benfica (POR)|   167|  69|1990| 07| 13|     1990-07-13|     5|\n",
      "+---------+------+-------+------------------+-------------+--------------------+------+----+----+---+---+---------------+------+\n",
      "only showing top 23 rows\n",
      "\n"
     ]
    }
   ],
   "source": [
    "parte = Window.partitionBy('Selecao').orderBy(desc('Altura'))\n",
    "\n",
    "df.withColumn('partes', ntile(5).over(parte)).show(23)"
   ]
  },
  {
   "cell_type": "code",
   "execution_count": 41,
   "metadata": {},
   "outputs": [],
   "source": [
    "df = df.drop('Nome_FIFA')"
   ]
  },
  {
   "cell_type": "code",
   "execution_count": 43,
   "metadata": {},
   "outputs": [
    {
     "name": "stdout",
     "output_type": "stream",
     "text": [
      "+---------+------+-------+-------------+--------------------+------+----+----+---+---+---------------+------+\n",
      "|  Selecao|Numero|Posicao|Nome_Camiseta|                Time|Altura|Peso| Ano|Mes|Dia|Data_Nascimento|degrau|\n",
      "+---------+------+-------+-------------+--------------------+------+----+----+---+---+---------------+------+\n",
      "|Argentina|     6|     DF|        FAZIO|       AS Roma (ITA)|   199|  85|1987| 03| 17|     1987-03-17|  NULL|\n",
      "|Argentina|     1|     GK|       GUZMÁN|   Tigres UANL (MEX)|   192|  90|1986| 02| 10|     1986-02-10|    85|\n",
      "|Argentina|    16|     DF|         ROJO|Manchester United...|   189|  82|1990| 03| 20|     1990-03-20|    90|\n",
      "|Argentina|    12|     GK|       ARMANI|CA River Plate (ARG)|   189|  85|1986| 10| 16|     1986-10-16|    82|\n",
      "|Argentina|    23|     GK|    CABALLERO|    Chelsea FC (ENG)|   186|  80|1981| 09| 28|     1981-09-28|    85|\n",
      "|Argentina|     9|     FW|      HIGUAÍN|   Juventus FC (ITA)|   184|  75|1987| 12| 10|     1987-12-10|    80|\n",
      "|Argentina|     4|     DF|      ANSALDI|     Torino FC (ITA)|   181|  73|1986| 09| 20|     1986-09-20|    75|\n",
      "|Argentina|     2|     DF|      MERCADO|    Sevilla FC (ESP)|   181|  81|1987| 03| 18|     1987-03-18|    73|\n",
      "|Argentina|    17|     DF|     OTAMENDI|Manchester City F...|   181|  81|1988| 02| 12|     1988-02-12|    81|\n",
      "|Argentina|    13|     MF|         MEZA|CA Independiente ...|   180|  76|1992| 12| 15|     1992-12-15|    81|\n",
      "|Argentina|    11|     MF|     DI MARÍA|Paris Saint-Germa...|   178|  75|1988| 02| 14|     1988-02-14|    76|\n",
      "|Argentina|    21|     FW|       DYBALA|   Juventus FC (ITA)|   177|  73|1993| 11| 15|     1993-11-15|    75|\n",
      "|Argentina|    20|     MF|     LO CELSO|Paris Saint-Germa...|   177|  75|1996| 04| 09|     1996-04-09|    73|\n",
      "|Argentina|     5|     MF|       BIGLIA|      AC Milan (ITA)|   175|  73|1986| 01| 30|     1986-01-30|    75|\n",
      "|Argentina|     7|     MF|       BANEGA|    Sevilla FC (ESP)|   175|  73|1988| 06| 29|     1988-06-29|    73|\n",
      "|Argentina|    14|     DF|   MASCHERANO|Hebei China Fortu...|   174|  73|1984| 06| 08|     1984-06-08|    73|\n",
      "|Argentina|    19|     FW|       AGÜERO|Manchester City F...|   172|  74|1988| 06| 02|     1988-06-02|    73|\n",
      "|Argentina|     8|     DF|        ACUÑA|   Sporting CP (POR)|   172|  77|1991| 10| 28|     1991-10-28|    74|\n",
      "|Argentina|    10|     FW|        MESSI|  FC Barcelona (ESP)|   170|  72|1987| 06| 24|     1987-06-24|    77|\n",
      "|Argentina|     3|     DF|   TAGLIAFICO|      AFC Ajax (NED)|   169|  65|1992| 08| 31|     1992-08-31|    72|\n",
      "|Argentina|    22|     MF|        PAVÓN|CA Boca Juniors (...|   169|  65|1996| 01| 21|     1996-01-21|    65|\n",
      "|Argentina|    15|     MF|      LANZINI|West Ham United F...|   167|  66|1993| 02| 15|     1993-02-15|    65|\n",
      "|Argentina|    18|     DF|       SALVIO|    SL Benfica (POR)|   167|  69|1990| 07| 13|     1990-07-13|    66|\n",
      "+---------+------+-------+-------------+--------------------+------+----+----+---+---+---------------+------+\n",
      "only showing top 23 rows\n",
      "\n"
     ]
    }
   ],
   "source": [
    "degrau = Window.partitionBy('Selecao').orderBy(desc('Altura'))\n",
    "\n",
    "df.withColumn('degrau', lag('Peso').over(degrau)).show(23)"
   ]
  },
  {
   "cell_type": "code",
   "execution_count": 55,
   "metadata": {},
   "outputs": [
    {
     "name": "stdout",
     "output_type": "stream",
     "text": [
      "+---------+------+-------+-------------+--------------------+------+----+----+---+---+---------------+------+\n",
      "|  Selecao|Numero|Posicao|Nome_Camiseta|                Time|Altura|Peso| Ano|Mes|Dia|Data_Nascimento|degrau|\n",
      "+---------+------+-------+-------------+--------------------+------+----+----+---+---+---------------+------+\n",
      "|Argentina|     6|     DF|        FAZIO|       AS Roma (ITA)|   199|  85|1987| 03| 17|     1987-03-17|   192|\n",
      "|Argentina|     1|     GK|       GUZMÁN|   Tigres UANL (MEX)|   192|  90|1986| 02| 10|     1986-02-10|   189|\n",
      "|Argentina|    16|     DF|         ROJO|Manchester United...|   189|  82|1990| 03| 20|     1990-03-20|   189|\n",
      "|Argentina|    12|     GK|       ARMANI|CA River Plate (ARG)|   189|  85|1986| 10| 16|     1986-10-16|   186|\n",
      "|Argentina|    23|     GK|    CABALLERO|    Chelsea FC (ENG)|   186|  80|1981| 09| 28|     1981-09-28|   184|\n",
      "|Argentina|     9|     FW|      HIGUAÍN|   Juventus FC (ITA)|   184|  75|1987| 12| 10|     1987-12-10|   181|\n",
      "|Argentina|     4|     DF|      ANSALDI|     Torino FC (ITA)|   181|  73|1986| 09| 20|     1986-09-20|   181|\n",
      "|Argentina|     2|     DF|      MERCADO|    Sevilla FC (ESP)|   181|  81|1987| 03| 18|     1987-03-18|   181|\n",
      "|Argentina|    17|     DF|     OTAMENDI|Manchester City F...|   181|  81|1988| 02| 12|     1988-02-12|   180|\n",
      "|Argentina|    13|     MF|         MEZA|CA Independiente ...|   180|  76|1992| 12| 15|     1992-12-15|   178|\n",
      "|Argentina|    11|     MF|     DI MARÍA|Paris Saint-Germa...|   178|  75|1988| 02| 14|     1988-02-14|   177|\n",
      "|Argentina|    21|     FW|       DYBALA|   Juventus FC (ITA)|   177|  73|1993| 11| 15|     1993-11-15|   177|\n",
      "|Argentina|    20|     MF|     LO CELSO|Paris Saint-Germa...|   177|  75|1996| 04| 09|     1996-04-09|   175|\n",
      "|Argentina|     5|     MF|       BIGLIA|      AC Milan (ITA)|   175|  73|1986| 01| 30|     1986-01-30|   175|\n",
      "|Argentina|     7|     MF|       BANEGA|    Sevilla FC (ESP)|   175|  73|1988| 06| 29|     1988-06-29|   174|\n",
      "|Argentina|    14|     DF|   MASCHERANO|Hebei China Fortu...|   174|  73|1984| 06| 08|     1984-06-08|   172|\n",
      "|Argentina|    19|     FW|       AGÜERO|Manchester City F...|   172|  74|1988| 06| 02|     1988-06-02|   172|\n",
      "|Argentina|     8|     DF|        ACUÑA|   Sporting CP (POR)|   172|  77|1991| 10| 28|     1991-10-28|   170|\n",
      "|Argentina|    10|     FW|        MESSI|  FC Barcelona (ESP)|   170|  72|1987| 06| 24|     1987-06-24|   169|\n",
      "|Argentina|     3|     DF|   TAGLIAFICO|      AFC Ajax (NED)|   169|  65|1992| 08| 31|     1992-08-31|   169|\n",
      "|Argentina|    22|     MF|        PAVÓN|CA Boca Juniors (...|   169|  65|1996| 01| 21|     1996-01-21|   167|\n",
      "|Argentina|    15|     MF|      LANZINI|West Ham United F...|   167|  66|1993| 02| 15|     1993-02-15|   167|\n",
      "|Argentina|    18|     DF|       SALVIO|    SL Benfica (POR)|   167|  69|1990| 07| 13|     1990-07-13|  NULL|\n",
      "+---------+------+-------+-------------+--------------------+------+----+----+---+---+---------------+------+\n",
      "only showing top 23 rows\n",
      "\n"
     ]
    }
   ],
   "source": [
    "degrau = Window.partitionBy('Selecao').orderBy(desc('Altura'))\n",
    "\n",
    "df.withColumn('degrau', lead('Altura').over(degrau)).show(23)"
   ]
  },
  {
   "cell_type": "code",
   "execution_count": 60,
   "metadata": {},
   "outputs": [
    {
     "name": "stdout",
     "output_type": "stream",
     "text": [
      "+--------------+------------------+\n",
      "|       Selecao|       avg(Altura)|\n",
      "+--------------+------------------+\n",
      "|        Serbia|186.69565217391303|\n",
      "|       Denmark| 186.6086956521739|\n",
      "|       Germany| 185.7826086956522|\n",
      "|        Sweden| 185.7391304347826|\n",
      "|       Iceland|185.52173913043478|\n",
      "|       Belgium|185.34782608695653|\n",
      "|       Croatia| 185.2608695652174|\n",
      "|       Nigeria|184.52173913043478|\n",
      "|       IR Iran|184.47826086956522|\n",
      "|        Russia| 184.3913043478261|\n",
      "|       Senegal|183.65217391304347|\n",
      "|        France|183.30434782608697|\n",
      "|        Poland|183.17391304347825|\n",
      "|       Tunisia|183.08695652173913|\n",
      "|   Switzerland|182.91304347826087|\n",
      "|       England| 182.7391304347826|\n",
      "|       Morocco|182.69565217391303|\n",
      "|        Panama|182.17391304347825|\n",
      "|Korea Republic| 181.8695652173913|\n",
      "|       Uruguay|181.04347826086956|\n",
      "+--------------+------------------+\n",
      "only showing top 20 rows\n",
      "\n"
     ]
    }
   ],
   "source": [
    "df.groupBy('Selecao').agg({'Altura':'avg'}).orderBy('avg(Altura)', ascending=False).show()"
   ]
  },
  {
   "cell_type": "code",
   "execution_count": 64,
   "metadata": {},
   "outputs": [
    {
     "name": "stdout",
     "output_type": "stream",
     "text": [
      "+--------------+------------------+\n",
      "|       Selecao|       avg(Altura)|\n",
      "+--------------+------------------+\n",
      "|        Serbia|186.69565217391303|\n",
      "|       Denmark| 186.6086956521739|\n",
      "|       Germany| 185.7826086956522|\n",
      "|        Sweden| 185.7391304347826|\n",
      "|       Iceland|185.52173913043478|\n",
      "|       Belgium|185.34782608695653|\n",
      "|       Croatia| 185.2608695652174|\n",
      "|       Nigeria|184.52173913043478|\n",
      "|       IR Iran|184.47826086956522|\n",
      "|        Russia| 184.3913043478261|\n",
      "|       Senegal|183.65217391304347|\n",
      "|        France|183.30434782608697|\n",
      "|        Poland|183.17391304347825|\n",
      "|       Tunisia|183.08695652173913|\n",
      "|   Switzerland|182.91304347826087|\n",
      "|       England| 182.7391304347826|\n",
      "|       Morocco|182.69565217391303|\n",
      "|        Panama|182.17391304347825|\n",
      "|Korea Republic| 181.8695652173913|\n",
      "|       Uruguay|181.04347826086956|\n",
      "|         Egypt|             181.0|\n",
      "|     Australia| 180.8695652173913|\n",
      "|        Brazil| 180.7826086956522|\n",
      "|      Colombia| 180.7826086956522|\n",
      "|    Costa Rica|180.69565217391303|\n",
      "|         Spain|179.91304347826087|\n",
      "|        Mexico| 179.7826086956522|\n",
      "|      Portugal| 179.7391304347826|\n",
      "|         Japan| 178.7826086956522|\n",
      "|     Argentina|178.43478260869566|\n",
      "|  Saudi Arabia|177.65217391304347|\n",
      "|          Peru| 177.6086956521739|\n",
      "+--------------+------------------+\n",
      "\n"
     ]
    }
   ],
   "source": [
    "df.groupBy('Selecao').agg(avg('Altura')).orderBy('avg(Altura)', ascending=False).show(32)"
   ]
  },
  {
   "cell_type": "code",
   "execution_count": 66,
   "metadata": {},
   "outputs": [
    {
     "name": "stdout",
     "output_type": "stream",
     "text": [
      "+-------+------+-------+-------------+--------------------+------+----+----+---+---+---------------+\n",
      "|Selecao|Numero|Posicao|Nome_Camiseta|                Time|Altura|Peso| Ano|Mes|Dia|Data_Nascimento|\n",
      "+-------+------+-------+-------------+--------------------+------+----+----+---+---+---------------+\n",
      "| Brazil|    18|     MF|         FRED|FC Shakhtar Donet...|   169|  64|1993| 03| 05|     1993-03-05|\n",
      "| Brazil|    21|     FW|       TAISON|FC Shakhtar Donet...|   172|  64|1988| 01| 13|     1988-01-13|\n",
      "| Brazil|    17|     MF|  FERNANDINHO|Manchester City F...|   179|  67|1985| 05| 04|     1985-05-04|\n",
      "| Brazil|    22|     DF|       FAGNER|SC Corinthians (BRA)|   168|  67|1989| 06| 11|     1989-06-11|\n",
      "| Brazil|    10|     FW|    NEYMAR JR|Paris Saint-Germa...|   175|  68|1992| 02| 05|     1992-02-05|\n",
      "| Brazil|    11|     MF|  P. COUTINHO|  FC Barcelona (ESP)|   172|  68|1992| 06| 12|     1992-06-12|\n",
      "| Brazil|     7|     FW|     D. COSTA|   Juventus FC (ITA)|   182|  70|1990| 09| 14|     1990-09-14|\n",
      "| Brazil|     6|     DF|  FILIPE LUIS|Atletico Madrid (...|   182|  73|1985| 08| 09|     1985-08-09|\n",
      "| Brazil|     9|     FW|     G. JESUS|Manchester City F...|   175|  73|1997| 04| 03|     1997-04-03|\n",
      "| Brazil|    13|     DF|   MARQUINHOS|Paris Saint-Germa...|   183|  75|1994| 05| 14|     1994-05-14|\n",
      "| Brazil|    20|     FW|      FIRMINO|  Liverpool FC (ENG)|   181|  76|1991| 10| 02|     1991-10-02|\n",
      "| Brazil|    19|     MF|      WILLIAN|    Chelsea FC (ENG)|   175|  77|1988| 08| 09|     1988-08-09|\n",
      "| Brazil|     3|     DF|      MIRANDA|FC Internazionale...|   186|  78|1984| 09| 07|     1984-09-07|\n",
      "| Brazil|    14|     DF|       DANILO|Manchester City F...|   184|  78|1991| 07| 15|     1991-07-15|\n",
      "| Brazil|     2|     DF|     T. SILVA|Paris Saint-Germa...|   183|  79|1984| 09| 22|     1984-09-22|\n",
      "| Brazil|    12|     DF|      MARCELO|Real Madrid CF (ESP)|   174|  80|1988| 05| 12|     1988-05-12|\n",
      "| Brazil|    15|     MF|     PAULINHO|  FC Barcelona (ESP)|   181|  81|1988| 07| 25|     1988-07-25|\n",
      "| Brazil|     4|     DF|      GEROMEL|   Grêmio FBPA (BRA)|   190|  84|1985| 09| 21|     1985-09-21|\n",
      "| Brazil|     5|     MF|     CASEMIRO|Real Madrid CF (ESP)|   185|  84|1992| 02| 23|     1992-02-23|\n",
      "| Brazil|     8|     MF|   R. AUGUSTO| Beijing Guoan (CHN)|   186|  86|1988| 02| 08|     1988-02-08|\n",
      "+-------+------+-------+-------------+--------------------+------+----+----+---+---+---------------+\n",
      "only showing top 20 rows\n",
      "\n"
     ]
    }
   ],
   "source": [
    "df.where('Selecao = \"Brazil\"').show()"
   ]
  },
  {
   "cell_type": "code",
   "execution_count": 68,
   "metadata": {},
   "outputs": [
    {
     "name": "stdout",
     "output_type": "stream",
     "text": [
      "+-------+------+-------+-------------+--------------------+------+----+----+---+---+---------------+\n",
      "|Selecao|Numero|Posicao|Nome_Camiseta|                Time|Altura|Peso| Ano|Mes|Dia|Data_Nascimento|\n",
      "+-------+------+-------+-------------+--------------------+------+----+----+---+---+---------------+\n",
      "| Brazil|    21|     FW|       TAISON|FC Shakhtar Donet...|   172|  64|1988| 01| 13|     1988-01-13|\n",
      "| Brazil|    10|     FW|    NEYMAR JR|Paris Saint-Germa...|   175|  68|1992| 02| 05|     1992-02-05|\n",
      "| Brazil|     7|     FW|     D. COSTA|   Juventus FC (ITA)|   182|  70|1990| 09| 14|     1990-09-14|\n",
      "| Brazil|     9|     FW|     G. JESUS|Manchester City F...|   175|  73|1997| 04| 03|     1997-04-03|\n",
      "| Brazil|    20|     FW|      FIRMINO|  Liverpool FC (ENG)|   181|  76|1991| 10| 02|     1991-10-02|\n",
      "+-------+------+-------+-------------+--------------------+------+----+----+---+---+---------------+\n",
      "\n"
     ]
    }
   ],
   "source": [
    "df.where('Selecao = \"Brazil\"').where('Posicao = \"FW\"').show()"
   ]
  },
  {
   "cell_type": "code",
   "execution_count": 72,
   "metadata": {},
   "outputs": [
    {
     "name": "stdout",
     "output_type": "stream",
     "text": [
      "+--------------+------+-------+-------------+--------------------+------+----+----+---+---+---------------+---+\n",
      "|       Selecao|Numero|Posicao|Nome_Camiseta|                Time|Altura|Peso| Ano|Mes|Dia|Data_Nascimento|Top|\n",
      "+--------------+------+-------+-------------+--------------------+------+----+----+---+---+---------------+---+\n",
      "|     Argentina|     6|     DF|        FAZIO|       AS Roma (ITA)|   199|  85|1987| 03| 17|     1987-03-17|  1|\n",
      "|     Australia|    12|     GK|        JONES|Feyenoord Rotterd...|   193|  87|1982| 03| 19|     1982-03-19|  1|\n",
      "|       Belgium|     1|     GK|     COURTOIS|    Chelsea FC (ENG)|   199|  91|1992| 05| 11|     1992-05-11|  1|\n",
      "|        Brazil|    16|     GK|       CASSIO|SC Corinthians (BRA)|   195|  92|1987| 06| 06|     1987-06-06|  1|\n",
      "|      Colombia|    13|     DF|      Y. MINA|  FC Barcelona (ESP)|   194|  95|1994| 09| 23|     1994-09-23|  1|\n",
      "|    Costa Rica|    19|     DF|    K. WASTON|Vancouver Whiteca...|   196|  87|1988| 01| 01|     1988-01-01|  1|\n",
      "|       Croatia|    12|     GK|   L. KALINIĆ|      KAA Gent (BEL)|   201|  96|1990| 04| 03|     1990-04-03|  1|\n",
      "|       Denmark|     3|     DF|  VESTERGAARD|VfL Borussia Mönc...|   200|  98|1992| 08| 03|     1992-08-03|  1|\n",
      "|         Egypt|     6|     DF|    A. HEGAZY|West Bromwich Alb...|   194|  95|1991| 01| 25|     1991-01-25|  1|\n",
      "|       England|    13|     GK|      BUTLAND| Stoke City FC (ENG)|   196|  96|1993| 03| 10|     1993-03-10|  1|\n",
      "|        France|    15|     MF|       NZONZI|    Sevilla FC (ESP)|   197|  87|1988| 12| 15|     1988-12-15|  1|\n",
      "|       Germany|    15|     DF|         SÜLE|FC Bayern München...|   195|  89|1995| 09| 03|     1995-09-03|  1|\n",
      "|       IR Iran|     1|     GK|A. BEIRANVAND| Persepolis FC (IRN)|   194|  85|1992| 09| 21|     1992-09-21|  1|\n",
      "|       Iceland|    12|     GK|       SCHRAM|   Roskilde BK (DEN)|   198|  92|1995| 01| 19|     1995-01-19|  1|\n",
      "|         Japan|    22|     DF|      YOSHIDA|Southampton FC (ENG)|   189|  78|1988| 08| 24|     1988-08-24|  1|\n",
      "|Korea Republic|     9|     FW|      S W KIM|Jeonbuk Hyundai (...|   197|  97|1988| 04| 14|     1988-04-14|  1|\n",
      "|        Mexico|     5|     DF|     D. REYES|      FC Porto (POR)|   190|  77|1992| 09| 19|     1992-09-19|  1|\n",
      "|       Morocco|     6|     DF|        SAISS|Wolverhampton Wan...|   190|  76|1990| 03| 26|     1990-03-26|  1|\n",
      "|       Nigeria|    13|     FW|      NWANKWO|    FC Crotone (ITA)|   197|  89|1992| 05| 07|     1992-05-07|  1|\n",
      "|        Panama|    22|     GK|    RODRIGUEZ|San Francisco FC ...|   197|  83|1990| 08| 05|     1990-08-05|  1|\n",
      "+--------------+------+-------+-------------+--------------------+------+----+----+---+---+---------------+---+\n",
      "only showing top 20 rows\n",
      "\n"
     ]
    }
   ],
   "source": [
    "top1 = Window.partitionBy('Selecao').orderBy(desc('Altura'))\n",
    "\n",
    "df.withColumn('Top', row_number().over(top1)).filter('Top = \"1\"').show()"
   ]
  },
  {
   "cell_type": "code",
   "execution_count": 74,
   "metadata": {},
   "outputs": [
    {
     "name": "stdout",
     "output_type": "stream",
     "text": [
      "+-------+-------+-----------------+-------+-------------+--------------------+-----------------+-----------------+-----------------+-----------------+-----------------+\n",
      "|summary|Selecao|           Numero|Posicao|Nome_Camiseta|                Time|           Altura|             Peso|              Ano|              Mes|              Dia|\n",
      "+-------+-------+-----------------+-------+-------------+--------------------+-----------------+-----------------+-----------------+-----------------+-----------------+\n",
      "|  count|     23|               23|     23|           23|                  23|               23|               23|               23|               23|               23|\n",
      "|   mean|   NULL|             12.0|   NULL|         NULL|                NULL|180.7826086956522|76.56521739130434|1989.391304347826|6.130434782608695|11.26086956521739|\n",
      "| stddev|   NULL|6.782329983125267|   NULL|         NULL|                NULL|7.354383490255254|8.239737898283606|3.499858833968506|2.784769418006175|6.876953549252538|\n",
      "|    min| Brazil|                1|     DF|    A. BECKER|       AS Roma (ITA)|              168|               64|             1984|               01|               02|\n",
      "|    max| Brazil|                9|     MF|      WILLIAN|SC Corinthians (BRA)|              195|               92|             1997|               10|               25|\n",
      "+-------+-------+-----------------+-------+-------------+--------------------+-----------------+-----------------+-----------------+-----------------+-----------------+\n",
      "\n"
     ]
    }
   ],
   "source": [
    "df.where('Selecao = \"Brazil\"').describe().show()"
   ]
  },
  {
   "cell_type": "code",
   "execution_count": 81,
   "metadata": {},
   "outputs": [
    {
     "name": "stdout",
     "output_type": "stream",
     "text": [
      "+--------------+------------------+---+---+\n",
      "|       Selecao|             media|max|min|\n",
      "+--------------+------------------+---+---+\n",
      "|        Serbia|186.69565217391303|195|169|\n",
      "|       Denmark| 186.6086956521739|200|171|\n",
      "|       Germany| 185.7826086956522|195|176|\n",
      "|        Sweden| 185.7391304347826|198|177|\n",
      "|       Iceland|185.52173913043478|198|170|\n",
      "|       Belgium|185.34782608695653|199|169|\n",
      "|       Croatia| 185.2608695652174|201|172|\n",
      "|       Nigeria|184.52173913043478|197|172|\n",
      "|       IR Iran|184.47826086956522|194|177|\n",
      "|        Russia| 184.3913043478261|196|173|\n",
      "|       Senegal|183.65217391304347|196|173|\n",
      "|        France|183.30434782608697|197|168|\n",
      "|        Poland|183.17391304347825|195|172|\n",
      "|       Tunisia|183.08695652173913|192|170|\n",
      "|   Switzerland|182.91304347826087|192|165|\n",
      "|       England| 182.7391304347826|196|170|\n",
      "|       Morocco|182.69565217391303|190|167|\n",
      "|        Panama|182.17391304347825|197|165|\n",
      "|Korea Republic| 181.8695652173913|197|170|\n",
      "|       Uruguay|181.04347826086956|196|168|\n",
      "+--------------+------------------+---+---+\n",
      "only showing top 20 rows\n",
      "\n"
     ]
    }
   ],
   "source": [
    "parametro = Window.partitionBy('Selecao').orderBy(desc('Altura'))\n",
    "parametro2 = Window.partitionBy('Selecao')\n",
    "\n",
    "df.withColumn('linhax', row_number().over(parametro))\\\n",
    "  .withColumn('media', avg('Altura').over(parametro2))\\\n",
    "  .withColumn('max', max('Altura').over(parametro2))\\\n",
    "  .withColumn('min', min('Altura').over(parametro2))\\\n",
    "  .filter('linhax = \"1\"').select('Selecao', 'media', 'max', 'min')\\\n",
    "  .orderBy('media', ascending=False).show()"
   ]
  }
 ],
 "metadata": {
  "kernelspec": {
   "display_name": "Python 3",
   "language": "python",
   "name": "python3"
  },
  "language_info": {
   "codemirror_mode": {
    "name": "ipython",
    "version": 3
   },
   "file_extension": ".py",
   "mimetype": "text/x-python",
   "name": "python",
   "nbconvert_exporter": "python",
   "pygments_lexer": "ipython3",
   "version": "3.11.1"
  }
 },
 "nbformat": 4,
 "nbformat_minor": 2
}
